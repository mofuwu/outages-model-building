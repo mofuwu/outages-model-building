{
 "cells": [
  {
   "cell_type": "markdown",
   "metadata": {},
   "source": [
    "# Your Title Here\n",
    "\n",
    "**Name(s)**: (your name(s) here)\n",
    "\n",
    "**Website Link**: (your website link)"
   ]
  },
  {
   "cell_type": "markdown",
   "metadata": {},
   "source": [
    "## Code"
   ]
  },
  {
   "cell_type": "code",
   "execution_count": 6,
   "metadata": {
    "ExecuteTime": {
     "end_time": "2019-10-31T23:36:28.652554Z",
     "start_time": "2019-10-31T23:36:27.180520Z"
    }
   },
   "outputs": [],
   "source": [
    "import pandas as pd\n",
    "import numpy as np\n",
    "import os\n",
    "\n",
    "import plotly.express as px\n",
    "pd.options.plotting.backend = 'plotly'"
   ]
  },
  {
   "cell_type": "code",
   "execution_count": 7,
   "metadata": {},
   "outputs": [
    {
     "data": {
      "text/html": [
       "<div>\n",
       "<style scoped>\n",
       "    .dataframe tbody tr th:only-of-type {\n",
       "        vertical-align: middle;\n",
       "    }\n",
       "\n",
       "    .dataframe tbody tr th {\n",
       "        vertical-align: top;\n",
       "    }\n",
       "\n",
       "    .dataframe thead th {\n",
       "        text-align: right;\n",
       "    }\n",
       "</style>\n",
       "<table border=\"1\" class=\"dataframe\">\n",
       "  <thead>\n",
       "    <tr style=\"text-align: right;\">\n",
       "      <th></th>\n",
       "      <th>U.S._STATE</th>\n",
       "      <th>POSTAL.CODE</th>\n",
       "      <th>CAUSE.CATEGORY</th>\n",
       "      <th>OUTAGE.DURATION</th>\n",
       "      <th>DEMAND.LOSS.MW</th>\n",
       "      <th>CUSTOMERS.AFFECTED</th>\n",
       "      <th>RES.PRICE</th>\n",
       "      <th>COM.PRICE</th>\n",
       "      <th>IND.PRICE</th>\n",
       "      <th>RES.PERCEN</th>\n",
       "      <th>COM.PERCEN</th>\n",
       "      <th>IND.PERCEN</th>\n",
       "    </tr>\n",
       "  </thead>\n",
       "  <tbody>\n",
       "    <tr>\n",
       "      <th>1</th>\n",
       "      <td>Minnesota</td>\n",
       "      <td>MN</td>\n",
       "      <td>severe weather</td>\n",
       "      <td>3060</td>\n",
       "      <td>NaN</td>\n",
       "      <td>70000.0</td>\n",
       "      <td>11.6</td>\n",
       "      <td>9.18</td>\n",
       "      <td>6.81</td>\n",
       "      <td>35.549073</td>\n",
       "      <td>32.225029</td>\n",
       "      <td>32.202431</td>\n",
       "    </tr>\n",
       "    <tr>\n",
       "      <th>2</th>\n",
       "      <td>Minnesota</td>\n",
       "      <td>MN</td>\n",
       "      <td>intentional attack</td>\n",
       "      <td>1</td>\n",
       "      <td>NaN</td>\n",
       "      <td>NaN</td>\n",
       "      <td>12.12</td>\n",
       "      <td>9.71</td>\n",
       "      <td>6.49</td>\n",
       "      <td>30.032487</td>\n",
       "      <td>34.210389</td>\n",
       "      <td>35.727564</td>\n",
       "    </tr>\n",
       "    <tr>\n",
       "      <th>3</th>\n",
       "      <td>Minnesota</td>\n",
       "      <td>MN</td>\n",
       "      <td>severe weather</td>\n",
       "      <td>3000</td>\n",
       "      <td>NaN</td>\n",
       "      <td>70000.0</td>\n",
       "      <td>10.87</td>\n",
       "      <td>8.19</td>\n",
       "      <td>6.07</td>\n",
       "      <td>28.097672</td>\n",
       "      <td>34.501015</td>\n",
       "      <td>37.365983</td>\n",
       "    </tr>\n",
       "    <tr>\n",
       "      <th>4</th>\n",
       "      <td>Minnesota</td>\n",
       "      <td>MN</td>\n",
       "      <td>severe weather</td>\n",
       "      <td>2550</td>\n",
       "      <td>NaN</td>\n",
       "      <td>68200.0</td>\n",
       "      <td>11.79</td>\n",
       "      <td>9.25</td>\n",
       "      <td>6.71</td>\n",
       "      <td>31.994099</td>\n",
       "      <td>33.54333</td>\n",
       "      <td>34.439329</td>\n",
       "    </tr>\n",
       "    <tr>\n",
       "      <th>5</th>\n",
       "      <td>Minnesota</td>\n",
       "      <td>MN</td>\n",
       "      <td>severe weather</td>\n",
       "      <td>1740</td>\n",
       "      <td>250</td>\n",
       "      <td>250000.0</td>\n",
       "      <td>13.07</td>\n",
       "      <td>10.16</td>\n",
       "      <td>7.74</td>\n",
       "      <td>33.982576</td>\n",
       "      <td>36.20585</td>\n",
       "      <td>29.779498</td>\n",
       "    </tr>\n",
       "    <tr>\n",
       "      <th>...</th>\n",
       "      <td>...</td>\n",
       "      <td>...</td>\n",
       "      <td>...</td>\n",
       "      <td>...</td>\n",
       "      <td>...</td>\n",
       "      <td>...</td>\n",
       "      <td>...</td>\n",
       "      <td>...</td>\n",
       "      <td>...</td>\n",
       "      <td>...</td>\n",
       "      <td>...</td>\n",
       "      <td>...</td>\n",
       "    </tr>\n",
       "    <tr>\n",
       "      <th>1530</th>\n",
       "      <td>North Dakota</td>\n",
       "      <td>ND</td>\n",
       "      <td>public appeal</td>\n",
       "      <td>720</td>\n",
       "      <td>155</td>\n",
       "      <td>34500.0</td>\n",
       "      <td>8.41</td>\n",
       "      <td>7.8</td>\n",
       "      <td>6.2</td>\n",
       "      <td>37.212544</td>\n",
       "      <td>33.351628</td>\n",
       "      <td>29.435904</td>\n",
       "    </tr>\n",
       "    <tr>\n",
       "      <th>1531</th>\n",
       "      <td>North Dakota</td>\n",
       "      <td>ND</td>\n",
       "      <td>fuel supply emergency</td>\n",
       "      <td>NaN</td>\n",
       "      <td>1650</td>\n",
       "      <td>NaN</td>\n",
       "      <td>NaN</td>\n",
       "      <td>NaN</td>\n",
       "      <td>NaN</td>\n",
       "      <td>NaN</td>\n",
       "      <td>NaN</td>\n",
       "      <td>NaN</td>\n",
       "    </tr>\n",
       "    <tr>\n",
       "      <th>1532</th>\n",
       "      <td>South Dakota</td>\n",
       "      <td>SD</td>\n",
       "      <td>islanding</td>\n",
       "      <td>59</td>\n",
       "      <td>84</td>\n",
       "      <td>NaN</td>\n",
       "      <td>9.25</td>\n",
       "      <td>7.47</td>\n",
       "      <td>5.53</td>\n",
       "      <td>36.564432</td>\n",
       "      <td>40.124517</td>\n",
       "      <td>23.311051</td>\n",
       "    </tr>\n",
       "    <tr>\n",
       "      <th>1533</th>\n",
       "      <td>South Dakota</td>\n",
       "      <td>SD</td>\n",
       "      <td>islanding</td>\n",
       "      <td>181</td>\n",
       "      <td>373</td>\n",
       "      <td>NaN</td>\n",
       "      <td>9.25</td>\n",
       "      <td>7.47</td>\n",
       "      <td>5.53</td>\n",
       "      <td>36.564432</td>\n",
       "      <td>40.124517</td>\n",
       "      <td>23.311051</td>\n",
       "    </tr>\n",
       "    <tr>\n",
       "      <th>1534</th>\n",
       "      <td>Alaska</td>\n",
       "      <td>AK</td>\n",
       "      <td>equipment failure</td>\n",
       "      <td>NaN</td>\n",
       "      <td>35</td>\n",
       "      <td>14273.0</td>\n",
       "      <td>NaN</td>\n",
       "      <td>NaN</td>\n",
       "      <td>NaN</td>\n",
       "      <td>NaN</td>\n",
       "      <td>NaN</td>\n",
       "      <td>NaN</td>\n",
       "    </tr>\n",
       "  </tbody>\n",
       "</table>\n",
       "<p>1534 rows × 12 columns</p>\n",
       "</div>"
      ],
      "text/plain": [
       "        U.S._STATE POSTAL.CODE         CAUSE.CATEGORY OUTAGE.DURATION  \\\n",
       "1        Minnesota          MN         severe weather            3060   \n",
       "2        Minnesota          MN     intentional attack               1   \n",
       "3        Minnesota          MN         severe weather            3000   \n",
       "4        Minnesota          MN         severe weather            2550   \n",
       "5        Minnesota          MN         severe weather            1740   \n",
       "...            ...         ...                    ...             ...   \n",
       "1530  North Dakota          ND          public appeal             720   \n",
       "1531  North Dakota          ND  fuel supply emergency             NaN   \n",
       "1532  South Dakota          SD              islanding              59   \n",
       "1533  South Dakota          SD              islanding             181   \n",
       "1534        Alaska          AK      equipment failure             NaN   \n",
       "\n",
       "     DEMAND.LOSS.MW  CUSTOMERS.AFFECTED RES.PRICE COM.PRICE IND.PRICE  \\\n",
       "1               NaN             70000.0      11.6      9.18      6.81   \n",
       "2               NaN                 NaN     12.12      9.71      6.49   \n",
       "3               NaN             70000.0     10.87      8.19      6.07   \n",
       "4               NaN             68200.0     11.79      9.25      6.71   \n",
       "5               250            250000.0     13.07     10.16      7.74   \n",
       "...             ...                 ...       ...       ...       ...   \n",
       "1530            155             34500.0      8.41       7.8       6.2   \n",
       "1531           1650                 NaN       NaN       NaN       NaN   \n",
       "1532             84                 NaN      9.25      7.47      5.53   \n",
       "1533            373                 NaN      9.25      7.47      5.53   \n",
       "1534             35             14273.0       NaN       NaN       NaN   \n",
       "\n",
       "     RES.PERCEN COM.PERCEN IND.PERCEN  \n",
       "1     35.549073  32.225029  32.202431  \n",
       "2     30.032487  34.210389  35.727564  \n",
       "3     28.097672  34.501015  37.365983  \n",
       "4     31.994099   33.54333  34.439329  \n",
       "5     33.982576   36.20585  29.779498  \n",
       "...         ...        ...        ...  \n",
       "1530  37.212544  33.351628  29.435904  \n",
       "1531        NaN        NaN        NaN  \n",
       "1532  36.564432  40.124517  23.311051  \n",
       "1533  36.564432  40.124517  23.311051  \n",
       "1534        NaN        NaN        NaN  \n",
       "\n",
       "[1534 rows x 12 columns]"
      ]
     },
     "execution_count": 7,
     "metadata": {},
     "output_type": "execute_result"
    }
   ],
   "source": [
    "# load outage data\n",
    "outage = pd.read_excel('outage.xlsx', skiprows=5, usecols=['U.S._STATE', 'POSTAL.CODE', 'CAUSE.CATEGORY', 'OUTAGE.DURATION', 'CUSTOMERS.AFFECTED', 'DEMAND.LOSS.MW', 'RES.PERCEN', 'COM.PERCEN', 'IND.PERCEN', 'RES.PRICE', 'COM.PRICE', 'IND.PRICE', 'NERC'])\n",
    "outage = outage.drop(index=0)\n",
    "outage"
   ]
  },
  {
   "cell_type": "markdown",
   "metadata": {},
   "source": [
    "### Framing the Problem"
   ]
  },
  {
   "cell_type": "markdown",
   "metadata": {},
   "source": [
    "### Data Cleaning for Outages dataset"
   ]
  },
  {
   "cell_type": "code",
   "execution_count": 9,
   "metadata": {},
   "outputs": [
    {
     "name": "stdout",
     "output_type": "stream",
     "text": [
      "  U.S._STATE POSTAL.CODE  CAUSE.CATEGORY  OUTAGE.DURATION  DEMAND.LOSS.MW  \\\n",
      "1  Minnesota          MN  severe weather           3060.0      680.167139   \n",
      "3  Minnesota          MN  severe weather           3000.0      680.167139   \n",
      "4  Minnesota          MN  severe weather           2550.0      680.167139   \n",
      "5  Minnesota          MN  severe weather           1740.0      250.000000   \n",
      "6  Minnesota          MN  severe weather           1860.0      680.167139   \n",
      "\n",
      "   CUSTOMERS.AFFECTED  RES.PRICE  COM.PRICE  IND.PRICE  RES.PERCEN  \\\n",
      "1             70000.0      11.60       9.18       6.81   35.549073   \n",
      "3             70000.0      10.87       8.19       6.07   28.097672   \n",
      "4             68200.0      11.79       9.25       6.71   31.994099   \n",
      "5            250000.0      13.07      10.16       7.74   33.982576   \n",
      "6             60000.0      10.63       8.34       6.15   31.192784   \n",
      "\n",
      "   COM.PERCEN  IND.PERCEN  RES.MONEY.LOST  COM.MONEY.LOST  IND.MONEY.LOST  \\\n",
      "1   32.225029   32.202431        14304.48        10261.76         7607.14   \n",
      "3   34.501015   37.365983        10386.89         9609.51         7713.49   \n",
      "4   33.543330   34.439329        10904.06         8969.17         6680.08   \n",
      "5   36.205850   29.779498         3220.10         2666.92         1671.08   \n",
      "6   33.235842   35.538160         6991.41         5844.54         4608.37   \n",
      "\n",
      "   TOTAL.MONEY.LOST  \n",
      "1          32173.38  \n",
      "3          27709.89  \n",
      "4          26553.31  \n",
      "5           7558.10  \n",
      "6          17444.32  \n",
      "|    | U.S._STATE   | POSTAL.CODE   | CAUSE.CATEGORY   |   OUTAGE.DURATION |   DEMAND.LOSS.MW |   CUSTOMERS.AFFECTED |   RES.PRICE |   COM.PRICE |   IND.PRICE |   RES.PERCEN |   COM.PERCEN |   IND.PERCEN |   RES.MONEY.LOST |   COM.MONEY.LOST |   IND.MONEY.LOST |   TOTAL.MONEY.LOST |\n",
      "|---:|:-------------|:--------------|:-----------------|------------------:|-----------------:|---------------------:|------------:|------------:|------------:|-------------:|-------------:|-------------:|-----------------:|-----------------:|-----------------:|-------------------:|\n",
      "|  1 | Minnesota    | MN            | severe weather   |              3060 |          680.167 |                70000 |       11.6  |        9.18 |        6.81 |      35.5491 |      32.225  |      32.2024 |         14304.5  |         10261.8  |          7607.14 |            32173.4 |\n",
      "|  3 | Minnesota    | MN            | severe weather   |              3000 |          680.167 |                70000 |       10.87 |        8.19 |        6.07 |      28.0977 |      34.501  |      37.366  |         10386.9  |          9609.51 |          7713.49 |            27709.9 |\n",
      "|  4 | Minnesota    | MN            | severe weather   |              2550 |          680.167 |                68200 |       11.79 |        9.25 |        6.71 |      31.9941 |      33.5433 |      34.4393 |         10904.1  |          8969.17 |          6680.08 |            26553.3 |\n",
      "|  5 | Minnesota    | MN            | severe weather   |              1740 |          250     |               250000 |       13.07 |       10.16 |        7.74 |      33.9826 |      36.2059 |      29.7795 |          3220.1  |          2666.92 |          1671.08 |             7558.1 |\n",
      "|  6 | Minnesota    | MN            | severe weather   |              1860 |          680.167 |                60000 |       10.63 |        8.34 |        6.15 |      31.1928 |      33.2358 |      35.5382 |          6991.41 |          5844.54 |          4608.37 |            17444.3 |\n"
     ]
    }
   ],
   "source": [
    "#perform probabilistic imputation on multiple columns together\n",
    "def multi_prob_impute(df, cols):\n",
    "    missingness = outage[cols[-1]].isna()\n",
    "    fill_index = np.random.choice(outage[cols[-1]].dropna().index, missingness.sum())\n",
    "    fill_values = outage.loc[fill_index, cols]\n",
    "    for col in cols:\n",
    "        df.loc[missingness, col] = fill_values[col].to_numpy()\n",
    "\n",
    "# perform probabilistic imputation on single column\n",
    "def prob_impute(df, col):\n",
    "    fill_values = np.random.choice(df[col].dropna(), df[col].isna().sum())\n",
    "    df.loc[df[col].isna(), col] = fill_values\n",
    "outage = outage.copy()[(outage['CUSTOMERS.AFFECTED'] >= 50000) | (outage['DEMAND.LOSS.MW'] >= 300)]\n",
    "\n",
    "# use probabilistic imputation to fill missing values in 'RES.PERCEN', 'IND.PERCEN', 'COM.PERCEN'\n",
    "multi_prob_impute(outage, ['RES.PERCEN', 'IND.PERCEN', 'COM.PERCEN'])\n",
    "prob_impute(outage, 'RES.PRICE')\n",
    "prob_impute(outage, 'COM.PRICE')\n",
    "prob_impute(outage, 'IND.PRICE')\n",
    "\n",
    "outage['OUTAGE.DURATION'] = outage.groupby('CAUSE.CATEGORY')['OUTAGE.DURATION'].transform(lambda x: x.fillna(x.mean()))\n",
    "outage['DEMAND.LOSS.MW'] = outage.groupby('CAUSE.CATEGORY')['DEMAND.LOSS.MW'].transform(lambda x: x.fillna(x.mean()))\n",
    "\n",
    "outage.loc[:, ~outage.columns.isin(['U.S._STATE', 'POSTAL.CODE', 'CAUSE.CATEGORY'])] = outage.loc[:, ~outage.columns.isin(['U.S._STATE', 'POSTAL.CODE', 'CAUSE.CATEGORY'])].astype(float)\n",
    "\n",
    "outage['RES.MONEY.LOST'] = round(outage['OUTAGE.DURATION']*outage['RES.PERCEN']*outage['DEMAND.LOSS.MW']*outage['RES.PRICE'] / 60000, 2)\n",
    "outage['COM.MONEY.LOST'] = round(outage['OUTAGE.DURATION']*outage['COM.PERCEN']*outage['DEMAND.LOSS.MW']*outage['COM.PRICE'] / 60000, 2)\n",
    "outage['IND.MONEY.LOST'] = round(outage['OUTAGE.DURATION']*outage['IND.PERCEN']*outage['DEMAND.LOSS.MW']*outage['IND.PRICE'] / 60000, 2)\n",
    "outage['TOTAL.MONEY.LOST'] = outage['RES.MONEY.LOST'] + outage['COM.MONEY.LOST'] + outage['IND.MONEY.LOST']\n",
    "print(outage.head())\n",
    "print(outage.head().to_markdown())"
   ]
  },
  {
   "cell_type": "markdown",
   "metadata": {
    "ExecuteTime": {
     "end_time": "2019-10-31T23:36:28.657068Z",
     "start_time": "2019-10-31T23:36:28.654650Z"
    }
   },
   "source": [
    "# TODO\n",
    "## Baseline model\n",
    "### Categorical features\n",
    "1. Cause cateogory\n",
    "2. NERC region\n",
    "3. Sector\n",
    "### Numerical features\n",
    "1. Average electricity consumption (sales)\n",
    "2. Duration\n",
    "3. Price\n",
    "4. Customers served\n",
    "\n",
    "\n",
    "## Final model\n",
    "### Categorical features\n",
    "1. Cause cateogory\n",
    "2. Date of time (Morning, Evening, Night)\n",
    "3. Date (Workday or weekend)\n",
    "4. Geographical region\n",
    "5. NERC region\n",
    "6. Sector\n",
    "\n",
    "### Numerical features\n",
    "1. Average electricity consumption (sales)\n",
    "2. Duration\n",
    "3. Price\n",
    "4. Customers served"
   ]
  },
  {
   "cell_type": "markdown",
   "metadata": {},
   "source": [
    "### Baseline Model"
   ]
  },
  {
   "cell_type": "code",
   "execution_count": null,
   "metadata": {
    "ExecuteTime": {
     "end_time": "2019-10-31T23:36:28.662099Z",
     "start_time": "2019-10-31T23:36:28.660016Z"
    }
   },
   "outputs": [],
   "source": [
    "# TODO"
   ]
  },
  {
   "cell_type": "markdown",
   "metadata": {},
   "source": [
    "### Final Model"
   ]
  },
  {
   "cell_type": "code",
   "execution_count": null,
   "metadata": {
    "ExecuteTime": {
     "end_time": "2019-10-31T23:36:28.662099Z",
     "start_time": "2019-10-31T23:36:28.660016Z"
    }
   },
   "outputs": [],
   "source": [
    "# TODO"
   ]
  },
  {
   "cell_type": "markdown",
   "metadata": {},
   "source": [
    "### Fairness Analysis"
   ]
  },
  {
   "cell_type": "code",
   "execution_count": null,
   "metadata": {
    "ExecuteTime": {
     "end_time": "2019-10-31T23:36:28.666489Z",
     "start_time": "2019-10-31T23:36:28.664381Z"
    }
   },
   "outputs": [],
   "source": [
    "# TODO"
   ]
  }
 ],
 "metadata": {
  "kernelspec": {
   "display_name": "Python 3 (ipykernel)",
   "language": "python",
   "name": "python3"
  },
  "language_info": {
   "codemirror_mode": {
    "name": "ipython",
    "version": 3
   },
   "file_extension": ".py",
   "mimetype": "text/x-python",
   "name": "python",
   "nbconvert_exporter": "python",
   "pygments_lexer": "ipython3",
   "version": "3.8.15"
  }
 },
 "nbformat": 4,
 "nbformat_minor": 2
}
