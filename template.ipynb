{
 "cells": [
  {
   "cell_type": "markdown",
   "metadata": {},
   "source": [
    "# Predicting money lost from outages\n",
    "\n",
    "**Name(s)**: Junyi Xu and Sean Chan\n",
    "\n",
    "**Website Link**: "
   ]
  },
  {
   "cell_type": "markdown",
   "metadata": {},
   "source": [
    "## Code"
   ]
  },
  {
   "cell_type": "code",
   "execution_count": 1,
   "metadata": {
    "ExecuteTime": {
     "end_time": "2019-10-31T23:36:28.652554Z",
     "start_time": "2019-10-31T23:36:27.180520Z"
    }
   },
   "outputs": [],
   "source": [
    "import pandas as pd\n",
    "import numpy as np\n",
    "import os\n",
    "\n",
    "import plotly.express as px\n",
    "import datetime\n",
    "\n",
    "from sklearn.linear_model import LinearRegression\n",
    "from sklearn.linear_model import ElasticNet\n",
    "from sklearn.linear_model import Ridge\n",
    "\n",
    "from sklearn.preprocessing import FunctionTransformer\n",
    "from sklearn.base import BaseEstimator, TransformerMixin\n",
    "from sklearn.pipeline import Pipeline\n",
    "from sklearn.compose import ColumnTransformer\n",
    "from sklearn.preprocessing import OneHotEncoder\n",
    "\n",
    "from sklearn.model_selection import train_test_split\n",
    "from sklearn.metrics import mean_squared_error # Built-in RMSE/MSE function.\n",
    "from sklearn.model_selection import GridSearchCV\n",
    "\n",
    "pd.options.plotting.backend = 'plotly'"
   ]
  },
  {
   "cell_type": "code",
   "execution_count": 2,
   "metadata": {},
   "outputs": [
    {
     "data": {
      "text/html": [
       "<div>\n",
       "<style scoped>\n",
       "    .dataframe tbody tr th:only-of-type {\n",
       "        vertical-align: middle;\n",
       "    }\n",
       "\n",
       "    .dataframe tbody tr th {\n",
       "        vertical-align: top;\n",
       "    }\n",
       "\n",
       "    .dataframe thead th {\n",
       "        text-align: right;\n",
       "    }\n",
       "</style>\n",
       "<table border=\"1\" class=\"dataframe\">\n",
       "  <thead>\n",
       "    <tr style=\"text-align: right;\">\n",
       "      <th></th>\n",
       "      <th>POSTAL.CODE</th>\n",
       "      <th>OUTAGE.START.DATE</th>\n",
       "      <th>OUTAGE.START.TIME</th>\n",
       "      <th>CAUSE.CATEGORY</th>\n",
       "      <th>OUTAGE.DURATION</th>\n",
       "      <th>DEMAND.LOSS.MW</th>\n",
       "      <th>RES.PRICE</th>\n",
       "      <th>COM.PRICE</th>\n",
       "      <th>IND.PRICE</th>\n",
       "      <th>RES.SALES</th>\n",
       "      <th>COM.SALES</th>\n",
       "      <th>IND.SALES</th>\n",
       "      <th>RES.PERCEN</th>\n",
       "      <th>COM.PERCEN</th>\n",
       "      <th>IND.PERCEN</th>\n",
       "      <th>RES.CUSTOMERS</th>\n",
       "      <th>COM.CUSTOMERS</th>\n",
       "      <th>IND.CUSTOMERS</th>\n",
       "    </tr>\n",
       "  </thead>\n",
       "  <tbody>\n",
       "    <tr>\n",
       "      <th>1</th>\n",
       "      <td>MN</td>\n",
       "      <td>2011-07-01 00:00:00</td>\n",
       "      <td>17:00:00</td>\n",
       "      <td>severe weather</td>\n",
       "      <td>3060</td>\n",
       "      <td>NaN</td>\n",
       "      <td>11.6</td>\n",
       "      <td>9.18</td>\n",
       "      <td>6.81</td>\n",
       "      <td>2332915</td>\n",
       "      <td>2114774</td>\n",
       "      <td>2113291</td>\n",
       "      <td>35.549073</td>\n",
       "      <td>32.225029</td>\n",
       "      <td>32.202431</td>\n",
       "      <td>2308736.0</td>\n",
       "      <td>276286.0</td>\n",
       "      <td>10673.0</td>\n",
       "    </tr>\n",
       "    <tr>\n",
       "      <th>2</th>\n",
       "      <td>MN</td>\n",
       "      <td>2014-05-11 00:00:00</td>\n",
       "      <td>18:38:00</td>\n",
       "      <td>intentional attack</td>\n",
       "      <td>1</td>\n",
       "      <td>NaN</td>\n",
       "      <td>12.12</td>\n",
       "      <td>9.71</td>\n",
       "      <td>6.49</td>\n",
       "      <td>1586986</td>\n",
       "      <td>1807756</td>\n",
       "      <td>1887927</td>\n",
       "      <td>30.032487</td>\n",
       "      <td>34.210389</td>\n",
       "      <td>35.727564</td>\n",
       "      <td>2345860.0</td>\n",
       "      <td>284978.0</td>\n",
       "      <td>9898.0</td>\n",
       "    </tr>\n",
       "    <tr>\n",
       "      <th>3</th>\n",
       "      <td>MN</td>\n",
       "      <td>2010-10-26 00:00:00</td>\n",
       "      <td>20:00:00</td>\n",
       "      <td>severe weather</td>\n",
       "      <td>3000</td>\n",
       "      <td>NaN</td>\n",
       "      <td>10.87</td>\n",
       "      <td>8.19</td>\n",
       "      <td>6.07</td>\n",
       "      <td>1467293</td>\n",
       "      <td>1801683</td>\n",
       "      <td>1951295</td>\n",
       "      <td>28.097672</td>\n",
       "      <td>34.501015</td>\n",
       "      <td>37.365983</td>\n",
       "      <td>2300291.0</td>\n",
       "      <td>276463.0</td>\n",
       "      <td>10150.0</td>\n",
       "    </tr>\n",
       "    <tr>\n",
       "      <th>4</th>\n",
       "      <td>MN</td>\n",
       "      <td>2012-06-19 00:00:00</td>\n",
       "      <td>04:30:00</td>\n",
       "      <td>severe weather</td>\n",
       "      <td>2550</td>\n",
       "      <td>NaN</td>\n",
       "      <td>11.79</td>\n",
       "      <td>9.25</td>\n",
       "      <td>6.71</td>\n",
       "      <td>1851519</td>\n",
       "      <td>1941174</td>\n",
       "      <td>1993026</td>\n",
       "      <td>31.994099</td>\n",
       "      <td>33.54333</td>\n",
       "      <td>34.439329</td>\n",
       "      <td>2317336.0</td>\n",
       "      <td>278466.0</td>\n",
       "      <td>11010.0</td>\n",
       "    </tr>\n",
       "    <tr>\n",
       "      <th>5</th>\n",
       "      <td>MN</td>\n",
       "      <td>2015-07-18 00:00:00</td>\n",
       "      <td>02:00:00</td>\n",
       "      <td>severe weather</td>\n",
       "      <td>1740</td>\n",
       "      <td>250</td>\n",
       "      <td>13.07</td>\n",
       "      <td>10.16</td>\n",
       "      <td>7.74</td>\n",
       "      <td>2028875</td>\n",
       "      <td>2161612</td>\n",
       "      <td>1777937</td>\n",
       "      <td>33.982576</td>\n",
       "      <td>36.20585</td>\n",
       "      <td>29.779498</td>\n",
       "      <td>2374674.0</td>\n",
       "      <td>289044.0</td>\n",
       "      <td>9812.0</td>\n",
       "    </tr>\n",
       "    <tr>\n",
       "      <th>...</th>\n",
       "      <td>...</td>\n",
       "      <td>...</td>\n",
       "      <td>...</td>\n",
       "      <td>...</td>\n",
       "      <td>...</td>\n",
       "      <td>...</td>\n",
       "      <td>...</td>\n",
       "      <td>...</td>\n",
       "      <td>...</td>\n",
       "      <td>...</td>\n",
       "      <td>...</td>\n",
       "      <td>...</td>\n",
       "      <td>...</td>\n",
       "      <td>...</td>\n",
       "      <td>...</td>\n",
       "      <td>...</td>\n",
       "      <td>...</td>\n",
       "      <td>...</td>\n",
       "    </tr>\n",
       "    <tr>\n",
       "      <th>1530</th>\n",
       "      <td>ND</td>\n",
       "      <td>2011-12-06 00:00:00</td>\n",
       "      <td>08:00:00</td>\n",
       "      <td>public appeal</td>\n",
       "      <td>720</td>\n",
       "      <td>155</td>\n",
       "      <td>8.41</td>\n",
       "      <td>7.8</td>\n",
       "      <td>6.2</td>\n",
       "      <td>488853</td>\n",
       "      <td>438133</td>\n",
       "      <td>386693</td>\n",
       "      <td>37.212544</td>\n",
       "      <td>33.351628</td>\n",
       "      <td>29.435904</td>\n",
       "      <td>330738.0</td>\n",
       "      <td>60017.0</td>\n",
       "      <td>3639.0</td>\n",
       "    </tr>\n",
       "    <tr>\n",
       "      <th>1531</th>\n",
       "      <td>ND</td>\n",
       "      <td>NaN</td>\n",
       "      <td>NaN</td>\n",
       "      <td>fuel supply emergency</td>\n",
       "      <td>NaN</td>\n",
       "      <td>1650</td>\n",
       "      <td>NaN</td>\n",
       "      <td>NaN</td>\n",
       "      <td>NaN</td>\n",
       "      <td>NaN</td>\n",
       "      <td>NaN</td>\n",
       "      <td>NaN</td>\n",
       "      <td>NaN</td>\n",
       "      <td>NaN</td>\n",
       "      <td>NaN</td>\n",
       "      <td>309997.0</td>\n",
       "      <td>53709.0</td>\n",
       "      <td>2331.0</td>\n",
       "    </tr>\n",
       "    <tr>\n",
       "      <th>1532</th>\n",
       "      <td>SD</td>\n",
       "      <td>2009-08-29 00:00:00</td>\n",
       "      <td>22:54:00</td>\n",
       "      <td>islanding</td>\n",
       "      <td>59</td>\n",
       "      <td>84</td>\n",
       "      <td>9.25</td>\n",
       "      <td>7.47</td>\n",
       "      <td>5.53</td>\n",
       "      <td>337874</td>\n",
       "      <td>370771</td>\n",
       "      <td>215406</td>\n",
       "      <td>36.564432</td>\n",
       "      <td>40.124517</td>\n",
       "      <td>23.311051</td>\n",
       "      <td>367206.0</td>\n",
       "      <td>65971.0</td>\n",
       "      <td>3052.0</td>\n",
       "    </tr>\n",
       "    <tr>\n",
       "      <th>1533</th>\n",
       "      <td>SD</td>\n",
       "      <td>2009-08-29 00:00:00</td>\n",
       "      <td>11:00:00</td>\n",
       "      <td>islanding</td>\n",
       "      <td>181</td>\n",
       "      <td>373</td>\n",
       "      <td>9.25</td>\n",
       "      <td>7.47</td>\n",
       "      <td>5.53</td>\n",
       "      <td>337874</td>\n",
       "      <td>370771</td>\n",
       "      <td>215406</td>\n",
       "      <td>36.564432</td>\n",
       "      <td>40.124517</td>\n",
       "      <td>23.311051</td>\n",
       "      <td>367206.0</td>\n",
       "      <td>65971.0</td>\n",
       "      <td>3052.0</td>\n",
       "    </tr>\n",
       "    <tr>\n",
       "      <th>1534</th>\n",
       "      <td>AK</td>\n",
       "      <td>NaN</td>\n",
       "      <td>NaN</td>\n",
       "      <td>equipment failure</td>\n",
       "      <td>NaN</td>\n",
       "      <td>35</td>\n",
       "      <td>NaN</td>\n",
       "      <td>NaN</td>\n",
       "      <td>NaN</td>\n",
       "      <td>NaN</td>\n",
       "      <td>NaN</td>\n",
       "      <td>NaN</td>\n",
       "      <td>NaN</td>\n",
       "      <td>NaN</td>\n",
       "      <td>NaN</td>\n",
       "      <td>230534.0</td>\n",
       "      <td>38074.0</td>\n",
       "      <td>854.0</td>\n",
       "    </tr>\n",
       "  </tbody>\n",
       "</table>\n",
       "<p>1534 rows × 18 columns</p>\n",
       "</div>"
      ],
      "text/plain": [
       "     POSTAL.CODE    OUTAGE.START.DATE OUTAGE.START.TIME  \\\n",
       "1             MN  2011-07-01 00:00:00          17:00:00   \n",
       "2             MN  2014-05-11 00:00:00          18:38:00   \n",
       "3             MN  2010-10-26 00:00:00          20:00:00   \n",
       "4             MN  2012-06-19 00:00:00          04:30:00   \n",
       "5             MN  2015-07-18 00:00:00          02:00:00   \n",
       "...          ...                  ...               ...   \n",
       "1530          ND  2011-12-06 00:00:00          08:00:00   \n",
       "1531          ND                  NaN               NaN   \n",
       "1532          SD  2009-08-29 00:00:00          22:54:00   \n",
       "1533          SD  2009-08-29 00:00:00          11:00:00   \n",
       "1534          AK                  NaN               NaN   \n",
       "\n",
       "             CAUSE.CATEGORY OUTAGE.DURATION DEMAND.LOSS.MW RES.PRICE  \\\n",
       "1            severe weather            3060            NaN      11.6   \n",
       "2        intentional attack               1            NaN     12.12   \n",
       "3            severe weather            3000            NaN     10.87   \n",
       "4            severe weather            2550            NaN     11.79   \n",
       "5            severe weather            1740            250     13.07   \n",
       "...                     ...             ...            ...       ...   \n",
       "1530          public appeal             720            155      8.41   \n",
       "1531  fuel supply emergency             NaN           1650       NaN   \n",
       "1532              islanding              59             84      9.25   \n",
       "1533              islanding             181            373      9.25   \n",
       "1534      equipment failure             NaN             35       NaN   \n",
       "\n",
       "     COM.PRICE IND.PRICE RES.SALES COM.SALES IND.SALES RES.PERCEN COM.PERCEN  \\\n",
       "1         9.18      6.81   2332915   2114774   2113291  35.549073  32.225029   \n",
       "2         9.71      6.49   1586986   1807756   1887927  30.032487  34.210389   \n",
       "3         8.19      6.07   1467293   1801683   1951295  28.097672  34.501015   \n",
       "4         9.25      6.71   1851519   1941174   1993026  31.994099   33.54333   \n",
       "5        10.16      7.74   2028875   2161612   1777937  33.982576   36.20585   \n",
       "...        ...       ...       ...       ...       ...        ...        ...   \n",
       "1530       7.8       6.2    488853    438133    386693  37.212544  33.351628   \n",
       "1531       NaN       NaN       NaN       NaN       NaN        NaN        NaN   \n",
       "1532      7.47      5.53    337874    370771    215406  36.564432  40.124517   \n",
       "1533      7.47      5.53    337874    370771    215406  36.564432  40.124517   \n",
       "1534       NaN       NaN       NaN       NaN       NaN        NaN        NaN   \n",
       "\n",
       "     IND.PERCEN  RES.CUSTOMERS  COM.CUSTOMERS  IND.CUSTOMERS  \n",
       "1     32.202431      2308736.0       276286.0        10673.0  \n",
       "2     35.727564      2345860.0       284978.0         9898.0  \n",
       "3     37.365983      2300291.0       276463.0        10150.0  \n",
       "4     34.439329      2317336.0       278466.0        11010.0  \n",
       "5     29.779498      2374674.0       289044.0         9812.0  \n",
       "...         ...            ...            ...            ...  \n",
       "1530  29.435904       330738.0        60017.0         3639.0  \n",
       "1531        NaN       309997.0        53709.0         2331.0  \n",
       "1532  23.311051       367206.0        65971.0         3052.0  \n",
       "1533  23.311051       367206.0        65971.0         3052.0  \n",
       "1534        NaN       230534.0        38074.0          854.0  \n",
       "\n",
       "[1534 rows x 18 columns]"
      ]
     },
     "execution_count": 2,
     "metadata": {},
     "output_type": "execute_result"
    }
   ],
   "source": [
    "# load outage data\n",
    "outage = pd.read_excel('outage.xlsx', skiprows=5, usecols=['POSTAL.CODE', 'CAUSE.CATEGORY', 'OUTAGE.DURATION', 'DEMAND.LOSS.MW', 'RES.PERCEN', 'COM.PERCEN', 'IND.PERCEN', 'RES.PRICE', 'COM.PRICE', 'IND.PRICE', 'RES.SALES', 'COM.SALES', 'IND.SALES', 'RES.CUSTOMERS', 'COM.CUSTOMERS', 'IND.CUSTOMERS', 'OUTAGE.START.DATE', 'OUTAGE.START.TIME'])\n",
    "outage = outage.drop(index=0)\n",
    "outage"
   ]
  },
  {
   "cell_type": "markdown",
   "metadata": {},
   "source": [
    "### Framing the Problem"
   ]
  },
  {
   "cell_type": "markdown",
   "metadata": {},
   "source": [
    "### Data Cleaning for Outages dataset"
   ]
  },
  {
   "cell_type": "code",
   "execution_count": 3,
   "metadata": {},
   "outputs": [],
   "source": [
    "#perform probabilistic imputation on multiple columns together\n",
    "def multi_prob_impute(df, cols):\n",
    "    missingness = outage[cols[-1]].isna()\n",
    "    fill_index = np.random.choice(outage[cols[-1]].dropna().index, missingness.sum())\n",
    "    fill_values = outage.loc[fill_index, cols]\n",
    "    for col in cols:\n",
    "        df.loc[missingness, col] = fill_values[col].to_numpy()\n",
    "\n",
    "# perform probabilistic imputation on single column\n",
    "def single_prob_impute(df, col):\n",
    "    fill_values = np.random.choice(df[col].dropna(), df[col].isna().sum())\n",
    "    df.loc[df[col].isna(), col] = fill_values"
   ]
  },
  {
   "cell_type": "code",
   "execution_count": 4,
   "metadata": {},
   "outputs": [],
   "source": [
    "def prob_imputate(df, col_category, sectors):\n",
    "    df = df.copy()\n",
    "    for category in col_category:\n",
    "        for sector in sectors:\n",
    "            col = '.'.join([sector, category])\n",
    "            single_prob_impute(df, col)\n",
    "    return df"
   ]
  },
  {
   "cell_type": "code",
   "execution_count": 5,
   "metadata": {},
   "outputs": [],
   "source": [
    "def merge_sector(df, col_category, sectors):\n",
    "    df = df.copy() \n",
    "    for category in col_category:\n",
    "        cols = ['.'.join([sector, category]) for sector in sectors]\n",
    "        df[category] = df[cols].apply(lambda row: list(row.values), axis=1)\n",
    "        df = df.drop(columns=cols)\n",
    "    return df"
   ]
  },
  {
   "cell_type": "code",
   "execution_count": 6,
   "metadata": {},
   "outputs": [],
   "source": [
    "def conditional_mean_impute(df, target, dependent):\n",
    "    return df.groupby(dependent)[target].apply(lambda x: x.fillna(x.mean()))"
   ]
  },
  {
   "cell_type": "code",
   "execution_count": 7,
   "metadata": {},
   "outputs": [],
   "source": [
    "non_numeric_col = ['POSTAL.CODE', 'OUTAGE.START.DATE', 'OUTAGE.START.TIME', 'CAUSE.CATEGORY']\n",
    "sector_related = ['PRICE', 'SALES', 'CUSTOMERS', 'MONEY.LOST']\n",
    "sectors = ['RES', 'COM', 'IND']\n",
    "\n",
    "outage_imputed = outage.copy()\n",
    "\n",
    "# use probabilistic imputation to fill missing values in sector related columns\n",
    "outage_imputed = prob_imputate(outage_imputed, sector_related[:-1], sectors)\n",
    "multi_prob_impute(outage_imputed, ['RES.PERCEN', 'IND.PERCEN', 'COM.PERCEN'])\n",
    "\n",
    "# use within-group mean imputation to fill missing values\n",
    "outage_imputed['OUTAGE.DURATION'] = conditional_mean_impute(outage_imputed, 'OUTAGE.DURATION', 'CAUSE.CATEGORY')\n",
    "outage_imputed['DEMAND.LOSS.MW'] = conditional_mean_impute(outage_imputed, 'DEMAND.LOSS.MW', 'CAUSE.CATEGORY')\n",
    "\n",
    "outage_imputed = outage_imputed[~outage_imputed['OUTAGE.START.DATE'].isna()]\n",
    "outage_imputed.loc[:, ~outage_imputed.columns.isin(non_numeric_col)] = outage_imputed.loc[:, ~outage_imputed.columns.isin(non_numeric_col)].astype(float)\n",
    "outage_imputed['OUTAGE.START.DATE'] = pd.to_datetime(outage_imputed['OUTAGE.START.DATE']).dt.date"
   ]
  },
  {
   "cell_type": "code",
   "execution_count": 8,
   "metadata": {},
   "outputs": [],
   "source": [
    "def money_lost(row, sector):\n",
    "    return round(row['OUTAGE.DURATION']*row[f'{sector}.PERCEN']*row['DEMAND.LOSS.MW']*row[f'{sector}.PRICE'] / 60000, 2)"
   ]
  },
  {
   "cell_type": "code",
   "execution_count": 9,
   "metadata": {
    "scrolled": true
   },
   "outputs": [
    {
     "data": {
      "text/html": [
       "<div>\n",
       "<style scoped>\n",
       "    .dataframe tbody tr th:only-of-type {\n",
       "        vertical-align: middle;\n",
       "    }\n",
       "\n",
       "    .dataframe tbody tr th {\n",
       "        vertical-align: top;\n",
       "    }\n",
       "\n",
       "    .dataframe thead th {\n",
       "        text-align: right;\n",
       "    }\n",
       "</style>\n",
       "<table border=\"1\" class=\"dataframe\">\n",
       "  <thead>\n",
       "    <tr style=\"text-align: right;\">\n",
       "      <th></th>\n",
       "      <th>POSTAL.CODE</th>\n",
       "      <th>OUTAGE.START.DATE</th>\n",
       "      <th>OUTAGE.START.TIME</th>\n",
       "      <th>CAUSE.CATEGORY</th>\n",
       "      <th>OUTAGE.DURATION</th>\n",
       "      <th>PRICE</th>\n",
       "      <th>SALES</th>\n",
       "      <th>CUSTOMERS</th>\n",
       "      <th>MONEY.LOST</th>\n",
       "      <th>SECTOR</th>\n",
       "    </tr>\n",
       "  </thead>\n",
       "  <tbody>\n",
       "    <tr>\n",
       "      <th>0</th>\n",
       "      <td>MN</td>\n",
       "      <td>2011-07-01</td>\n",
       "      <td>17:00:00</td>\n",
       "      <td>severe weather</td>\n",
       "      <td>3060.0</td>\n",
       "      <td>11.60</td>\n",
       "      <td>2332915.0</td>\n",
       "      <td>2308736.0</td>\n",
       "      <td>13010.97</td>\n",
       "      <td>RES</td>\n",
       "    </tr>\n",
       "    <tr>\n",
       "      <th>1</th>\n",
       "      <td>MN</td>\n",
       "      <td>2011-07-01</td>\n",
       "      <td>17:00:00</td>\n",
       "      <td>severe weather</td>\n",
       "      <td>3060.0</td>\n",
       "      <td>9.18</td>\n",
       "      <td>2114774.0</td>\n",
       "      <td>276286.0</td>\n",
       "      <td>9333.82</td>\n",
       "      <td>COM</td>\n",
       "    </tr>\n",
       "    <tr>\n",
       "      <th>2</th>\n",
       "      <td>MN</td>\n",
       "      <td>2011-07-01</td>\n",
       "      <td>17:00:00</td>\n",
       "      <td>severe weather</td>\n",
       "      <td>3060.0</td>\n",
       "      <td>6.81</td>\n",
       "      <td>2113291.0</td>\n",
       "      <td>10673.0</td>\n",
       "      <td>6919.25</td>\n",
       "      <td>IND</td>\n",
       "    </tr>\n",
       "    <tr>\n",
       "      <th>3</th>\n",
       "      <td>MN</td>\n",
       "      <td>2014-05-11</td>\n",
       "      <td>18:38:00</td>\n",
       "      <td>intentional attack</td>\n",
       "      <td>1.0</td>\n",
       "      <td>12.12</td>\n",
       "      <td>1586986.0</td>\n",
       "      <td>2345860.0</td>\n",
       "      <td>0.06</td>\n",
       "      <td>RES</td>\n",
       "    </tr>\n",
       "    <tr>\n",
       "      <th>4</th>\n",
       "      <td>MN</td>\n",
       "      <td>2014-05-11</td>\n",
       "      <td>18:38:00</td>\n",
       "      <td>intentional attack</td>\n",
       "      <td>1.0</td>\n",
       "      <td>9.71</td>\n",
       "      <td>1807756.0</td>\n",
       "      <td>284978.0</td>\n",
       "      <td>0.05</td>\n",
       "      <td>COM</td>\n",
       "    </tr>\n",
       "    <tr>\n",
       "      <th>...</th>\n",
       "      <td>...</td>\n",
       "      <td>...</td>\n",
       "      <td>...</td>\n",
       "      <td>...</td>\n",
       "      <td>...</td>\n",
       "      <td>...</td>\n",
       "      <td>...</td>\n",
       "      <td>...</td>\n",
       "      <td>...</td>\n",
       "      <td>...</td>\n",
       "    </tr>\n",
       "    <tr>\n",
       "      <th>4570</th>\n",
       "      <td>SD</td>\n",
       "      <td>2009-08-29</td>\n",
       "      <td>22:54:00</td>\n",
       "      <td>islanding</td>\n",
       "      <td>59.0</td>\n",
       "      <td>7.47</td>\n",
       "      <td>370771.0</td>\n",
       "      <td>65971.0</td>\n",
       "      <td>24.76</td>\n",
       "      <td>COM</td>\n",
       "    </tr>\n",
       "    <tr>\n",
       "      <th>4571</th>\n",
       "      <td>SD</td>\n",
       "      <td>2009-08-29</td>\n",
       "      <td>22:54:00</td>\n",
       "      <td>islanding</td>\n",
       "      <td>59.0</td>\n",
       "      <td>5.53</td>\n",
       "      <td>215406.0</td>\n",
       "      <td>3052.0</td>\n",
       "      <td>10.65</td>\n",
       "      <td>IND</td>\n",
       "    </tr>\n",
       "    <tr>\n",
       "      <th>4572</th>\n",
       "      <td>SD</td>\n",
       "      <td>2009-08-29</td>\n",
       "      <td>11:00:00</td>\n",
       "      <td>islanding</td>\n",
       "      <td>181.0</td>\n",
       "      <td>9.25</td>\n",
       "      <td>337874.0</td>\n",
       "      <td>367206.0</td>\n",
       "      <td>380.57</td>\n",
       "      <td>RES</td>\n",
       "    </tr>\n",
       "    <tr>\n",
       "      <th>4573</th>\n",
       "      <td>SD</td>\n",
       "      <td>2009-08-29</td>\n",
       "      <td>11:00:00</td>\n",
       "      <td>islanding</td>\n",
       "      <td>181.0</td>\n",
       "      <td>7.47</td>\n",
       "      <td>370771.0</td>\n",
       "      <td>65971.0</td>\n",
       "      <td>337.26</td>\n",
       "      <td>COM</td>\n",
       "    </tr>\n",
       "    <tr>\n",
       "      <th>4574</th>\n",
       "      <td>SD</td>\n",
       "      <td>2009-08-29</td>\n",
       "      <td>11:00:00</td>\n",
       "      <td>islanding</td>\n",
       "      <td>181.0</td>\n",
       "      <td>5.53</td>\n",
       "      <td>215406.0</td>\n",
       "      <td>3052.0</td>\n",
       "      <td>145.05</td>\n",
       "      <td>IND</td>\n",
       "    </tr>\n",
       "  </tbody>\n",
       "</table>\n",
       "<p>4575 rows × 10 columns</p>\n",
       "</div>"
      ],
      "text/plain": [
       "     POSTAL.CODE OUTAGE.START.DATE OUTAGE.START.TIME      CAUSE.CATEGORY  \\\n",
       "0             MN        2011-07-01          17:00:00      severe weather   \n",
       "1             MN        2011-07-01          17:00:00      severe weather   \n",
       "2             MN        2011-07-01          17:00:00      severe weather   \n",
       "3             MN        2014-05-11          18:38:00  intentional attack   \n",
       "4             MN        2014-05-11          18:38:00  intentional attack   \n",
       "...          ...               ...               ...                 ...   \n",
       "4570          SD        2009-08-29          22:54:00           islanding   \n",
       "4571          SD        2009-08-29          22:54:00           islanding   \n",
       "4572          SD        2009-08-29          11:00:00           islanding   \n",
       "4573          SD        2009-08-29          11:00:00           islanding   \n",
       "4574          SD        2009-08-29          11:00:00           islanding   \n",
       "\n",
       "      OUTAGE.DURATION  PRICE      SALES  CUSTOMERS  MONEY.LOST SECTOR  \n",
       "0              3060.0  11.60  2332915.0  2308736.0    13010.97    RES  \n",
       "1              3060.0   9.18  2114774.0   276286.0     9333.82    COM  \n",
       "2              3060.0   6.81  2113291.0    10673.0     6919.25    IND  \n",
       "3                 1.0  12.12  1586986.0  2345860.0        0.06    RES  \n",
       "4                 1.0   9.71  1807756.0   284978.0        0.05    COM  \n",
       "...               ...    ...        ...        ...         ...    ...  \n",
       "4570             59.0   7.47   370771.0    65971.0       24.76    COM  \n",
       "4571             59.0   5.53   215406.0     3052.0       10.65    IND  \n",
       "4572            181.0   9.25   337874.0   367206.0      380.57    RES  \n",
       "4573            181.0   7.47   370771.0    65971.0      337.26    COM  \n",
       "4574            181.0   5.53   215406.0     3052.0      145.05    IND  \n",
       "\n",
       "[4575 rows x 10 columns]"
      ]
     },
     "metadata": {},
     "output_type": "display_data"
    }
   ],
   "source": [
    "for sector in sectors:\n",
    "    outage_imputed[f'{sector}.MONEY.LOST'] = outage_imputed.apply(lambda row: money_lost(row, sector), axis=1)\n",
    "\n",
    "outage_imputed = outage_imputed.drop(columns=['DEMAND.LOSS.MW', 'RES.PERCEN', 'COM.PERCEN', 'IND.PERCEN'])\n",
    "# print(outage.head().to_markdown())\n",
    "\n",
    "outage_merge = merge_sector(outage_imputed, sector_related, sectors)\n",
    "outage_explode = outage_merge.explode(sector_related).reset_index().drop(columns='index')\n",
    "outage_explode['SECTOR'] = sectors*len(outage_merge)\n",
    "outage_explode.loc[:, ['PRICE', 'SALES', 'CUSTOMERS', 'MONEY.LOST']] = outage_explode.loc[:, ['PRICE', 'SALES', 'CUSTOMERS', 'MONEY.LOST']].astype(float)\n",
    "outage_explode = outage_explode[outage_explode['MONEY.LOST'] < 2e6]\n",
    "display(outage_explode)"
   ]
  },
  {
   "cell_type": "markdown",
   "metadata": {
    "ExecuteTime": {
     "end_time": "2019-10-31T23:36:28.657068Z",
     "start_time": "2019-10-31T23:36:28.654650Z"
    }
   },
   "source": [
    "# TODO\n",
    "## Baseline model\n",
    "### Categorical features\n",
    "1. Cause cateogory\n",
    "2. Sector\n",
    "### Numerical features\n",
    "1. Average electricity consumption (sales)\n",
    "2. Duration\n",
    "3. Price\n",
    "4. Customers served\n",
    "\n",
    "\n",
    "## Final model\n",
    "### Categorical features\n",
    "1. Cause cateogory\n",
    "2. Date of time (Morning, Evening, Night)\n",
    "3. Date (Workday or weekend)\n",
    "4. Geographical region\n",
    "5. Sector\n",
    "\n",
    "### Numerical features\n",
    "1. Average electricity consumption (sales)\n",
    "2. Duration\n",
    "3. Price\n",
    "4. Customers served"
   ]
  },
  {
   "cell_type": "code",
   "execution_count": 10,
   "metadata": {},
   "outputs": [],
   "source": [
    "def train(X_train, y_train, model):\n",
    "    model.fit(X_train, y_train)\n",
    "    return model.score(X_train,  y_train), model\n",
    "\n",
    "def test(X_test, y_test, model):\n",
    "    return model.score(X_test, y_test)"
   ]
  },
  {
   "cell_type": "markdown",
   "metadata": {},
   "source": [
    "### Baseline Model"
   ]
  },
  {
   "cell_type": "code",
   "execution_count": 11,
   "metadata": {
    "ExecuteTime": {
     "end_time": "2019-10-31T23:36:28.662099Z",
     "start_time": "2019-10-31T23:36:28.660016Z"
    }
   },
   "outputs": [],
   "source": [
    "# baseline model\n",
    "def baseline_model():\n",
    "    preproc = ColumnTransformer(\n",
    "        transformers=[\n",
    "            ('categorical_features', OneHotEncoder(), ['CAUSE.CATEGORY', 'SECTOR'])\n",
    "        ],\n",
    "        remainder = 'passthrough' \n",
    "    )\n",
    "\n",
    "    pl = Pipeline([\n",
    "        ('preprocessor', preproc),\n",
    "        ('lin-reg', LinearRegression())\n",
    "    ])\n",
    "    return pl"
   ]
  },
  {
   "cell_type": "code",
   "execution_count": 12,
   "metadata": {},
   "outputs": [
    {
     "name": "stdout",
     "output_type": "stream",
     "text": [
      "train score:  0.17180298336664357\n",
      "test score:  0.20517124605525375\n"
     ]
    }
   ],
   "source": [
    "total_train_score = total_test_score = 0\n",
    "num_iter = 100\n",
    "dropped_cols = ['POSTAL.CODE', 'OUTAGE.START.DATE', 'OUTAGE.START.TIME', 'MONEY.LOST']\n",
    "model = baseline_model()\n",
    "for i in range(num_iter):\n",
    "    X_train, X_test, y_train, y_test = train_test_split(outage_explode.drop(dropped_cols, axis=1), \n",
    "                                                        outage_explode['MONEY.LOST'], \n",
    "                                                        test_size=0.25)\n",
    "    score, model = train(X_train, y_train, model)\n",
    "    total_train_score += score\n",
    "    score = test(X_test, y_test, model)\n",
    "    total_test_score += score\n",
    "print('train score: ', total_train_score / num_iter)\n",
    "print('test score: ', total_test_score / num_iter)"
   ]
  },
  {
   "cell_type": "markdown",
   "metadata": {},
   "source": [
    "##### Analysis\n",
    "As our rmse_train is much greater than our rmse_test value (51336.40520497841 > 38759.98874640398), our baseline model is not able to generalize well"
   ]
  },
  {
   "cell_type": "markdown",
   "metadata": {},
   "source": [
    "### Final Model"
   ]
  },
  {
   "cell_type": "code",
   "execution_count": 13,
   "metadata": {},
   "outputs": [],
   "source": [
    "def time_of_day(time):\n",
    "    if time >= datetime.time(5,0) and time < datetime.time(12, 0):\n",
    "        return 'Morning'\n",
    "    elif time >= datetime.time(12, 0) and time < datetime.time(17, 0):\n",
    "        return 'Afternoon'\n",
    "    elif time >= datetime.time(17, 0) and time < datetime.time(21, 0):\n",
    "        return 'Evening'\n",
    "    else:\n",
    "        return 'Night'\n",
    "    \n",
    "us_region = {\"West\": ['CA', 'NV', 'UT', 'CO', 'WY', 'MT', 'ID', 'OR', 'WA', 'AK', 'HI'], \n",
    "             \"Southwest\": ['AZ', 'NM', 'TX', 'OK'], \n",
    "             \"Midwest\": ['ND', 'SD', 'NE', 'KS', 'MN', 'IA', 'MO', 'WI', 'IL', 'MI', 'IN', 'OH'], \n",
    "            \"Southeast\": ['AR', 'LA', 'MS', 'TN', 'AL', 'KY', 'GA', 'FL', 'NC', 'SC', 'VA', 'WV', 'DC', 'DE', 'MD'],\n",
    "            \"Northeast\": ['NY', 'PA', 'NJ', 'CT', 'RI', 'MA', 'VT', 'NH', 'ME']}\n",
    "def get_region(state):\n",
    "    for region in us_region.keys():\n",
    "        if state in us_region[region]:\n",
    "            return region\n",
    "    return np.NaN"
   ]
  },
  {
   "cell_type": "code",
   "execution_count": 14,
   "metadata": {},
   "outputs": [],
   "source": [
    "outage_trans = outage_explode.copy()\n",
    "\n",
    "outage_trans['IS.WEEKEND'] = outage_trans['OUTAGE.START.DATE'].apply(lambda d: d.weekday() > 4)\n",
    "outage_trans = outage_trans.drop(['OUTAGE.START.DATE'], axis=1)\n",
    "\n",
    "outage_trans['OUTAGE.START.TIME'] = outage_trans['OUTAGE.START.TIME'].apply(time_of_day)\n",
    "\n",
    "outage_trans['U.S.REGION'] = outage_trans['POSTAL.CODE'].apply(get_region)\n",
    "outage_trans = outage_trans.drop(['POSTAL.CODE'], axis=1)"
   ]
  },
  {
   "cell_type": "code",
   "execution_count": 15,
   "metadata": {},
   "outputs": [],
   "source": [
    "class StdScalerByGroup(BaseEstimator, TransformerMixin):\n",
    "\n",
    "    def __init__(self):\n",
    "        pass\n",
    "\n",
    "    def fit(self, X, y=None):\n",
    "        # X might not be a pandas DataFrame (e.g. a np.array)\n",
    "\n",
    "        # Compute and store the means/standard-deviations for each column (e.g. 'c1' and 'c2'), \n",
    "        # for each group (e.g. 'A', 'B', 'C').  \n",
    "        # (Our solution uses a dictionary)\n",
    "\n",
    "        X = pd.DataFrame(X)\n",
    "        self.grps_ = X.groupby(X.columns[0]).agg(['mean', 'std']).to_dict('index')\n",
    "        return self\n",
    "\n",
    "    def transform(self, X, y=None):\n",
    "\n",
    "        try:\n",
    "            getattr(self, \"grps_\")\n",
    "        except AttributeError:\n",
    "            raise RuntimeError(\"You must fit the transformer before tranforming the data!\")\n",
    "        \n",
    "        # Hint: Define a helper function here!\n",
    "        def standardize_group(group_df):\n",
    "            group = group_df.iloc[0][group_df.columns[0]]\n",
    "            return group_df[group_df.columns[1:]].apply(lambda ser: standardize(ser, group, ser.name))\n",
    "\n",
    "        def standardize(ser, g, ser_name):\n",
    "            if (ser_name, 'mean') not in self.grps_[g].keys():\n",
    "                return np.full(len(ser), fill_value=np.nan)\n",
    "            mean = self.grps_[g][(ser_name, 'mean')]\n",
    "            std = self.grps_[g][(ser_name, 'std')]\n",
    "            return (ser - mean) / std\n",
    "\n",
    "        df = pd.DataFrame(X)\n",
    "        return df.groupby(df.columns[0]).apply(standardize_group).dropna(axis=1)"
   ]
  },
  {
   "cell_type": "code",
   "execution_count": 26,
   "metadata": {},
   "outputs": [],
   "source": [
    "# final model\n",
    "def final_model_tuning():\n",
    "    hyperparameters = {\"max_iter\": [300, 500, 600, 700, 800],\n",
    "                      \"alpha\": [0.3, 0.4, 0.5, 0.6, 0.8, 0.9, 1],\n",
    "                      \"l1_ratio\": [0.1, 0.2, 0.3, 0.4, 0.5, 0.6]}\n",
    "\n",
    "\n",
    "    preproc = ColumnTransformer(\n",
    "        transformers=[\n",
    "            ('std-scaler', StdScalerByGroup(), ['SECTOR', 'OUTAGE.DURATION', 'SALES', 'CUSTOMERS']),\n",
    "            ('one-hot', OneHotEncoder(drop='first'), ['OUTAGE.START.TIME', 'CAUSE.CATEGORY', 'IS.WEEKEND', 'SECTOR', 'U.S.REGION'])\n",
    "        ],\n",
    "        remainder='passthrough'\n",
    "    )\n",
    "\n",
    "    pl = Pipeline([\n",
    "        ('preprocessor', preproc),\n",
    "        ('grid-search', GridSearchCV(ElasticNet(), hyperparameters, scoring='r2', cv=3))\n",
    "    ])\n",
    "    return pl"
   ]
  },
  {
   "cell_type": "code",
   "execution_count": 29,
   "metadata": {},
   "outputs": [
    {
     "name": "stdout",
     "output_type": "stream",
     "text": [
      "train score:  0.16238486193192458\n",
      "test score:  0.2622639235536409\n",
      "best parameter {'alpha': 0.3, 'l1_ratio': 0.6, 'max_iter': 300}\n"
     ]
    }
   ],
   "source": [
    "X_train, X_test, y_train, y_test = train_test_split(outage_trans.drop(['MONEY.LOST'], axis=1), outage_trans['MONEY.LOST'], test_size=0.25)\n",
    "tuning_model = final_model_tuning()\n",
    "tuning_model.fit(X_train, y_train)\n",
    "print('train score: ', tuning_model.score(X_train, y_train))\n",
    "print('test score: ', tuning_model.score(X_test, y_test))\n",
    "print('best parameter', tuning_model.named_steps['grid-search'].best_params_)"
   ]
  },
  {
   "cell_type": "code",
   "execution_count": 38,
   "metadata": {},
   "outputs": [],
   "source": [
    "def final_model():\n",
    "    preproc = ColumnTransformer(\n",
    "        transformers=[\n",
    "            ('std-scaler', StdScalerByGroup(), ['SECTOR', 'OUTAGE.DURATION', 'SALES', 'CUSTOMERS']),\n",
    "            ('one-hot', OneHotEncoder(drop='first'), ['OUTAGE.START.TIME', 'CAUSE.CATEGORY', 'IS.WEEKEND', 'SECTOR', 'U.S.REGION'])\n",
    "        ],\n",
    "        remainder='passthrough'\n",
    "    )\n",
    "    pl = Pipeline([\n",
    "        ('preprocessor', preproc),\n",
    "        ('elastic-reg', ElasticNet(alpha=0.3, l1_ratio=0.6, max_iter=300))\n",
    "    ])\n",
    "    return pl"
   ]
  },
  {
   "cell_type": "code",
   "execution_count": 41,
   "metadata": {},
   "outputs": [
    {
     "name": "stdout",
     "output_type": "stream",
     "text": [
      "train score:  0.17013430005249217\n",
      "test score:  0.22195186620978952\n"
     ]
    }
   ],
   "source": [
    "X_train, X_test, y_train, y_test = train_test_split(outage_trans.drop(['MONEY.LOST'], axis=1), outage_trans['MONEY.LOST'], test_size=0.25)\n",
    "total_train_score = total_test_score = 0\n",
    "num_iter = 50\n",
    "model = final_model()\n",
    "for i in range(num_iter):\n",
    "    X_train, X_test, y_train, y_test = train_test_split(outage_trans.drop(['MONEY.LOST'], axis=1), \n",
    "                                                        outage_trans['MONEY.LOST'], \n",
    "                                                        test_size=0.25)\n",
    "    score, model = train(X_train, y_train, model)\n",
    "    total_train_score += score\n",
    "    score = test(X_test, y_test, model)\n",
    "    total_test_score += score\n",
    "print('train score: ', total_train_score / num_iter)\n",
    "print('test score: ', total_test_score / num_iter)"
   ]
  },
  {
   "cell_type": "markdown",
   "metadata": {},
   "source": [
    "### Fairness Analysis"
   ]
  },
  {
   "cell_type": "markdown",
   "metadata": {
    "ExecuteTime": {
     "end_time": "2019-10-31T23:36:28.666489Z",
     "start_time": "2019-10-31T23:36:28.664381Z"
    }
   },
   "source": [
    "**Null Hypothesis**: The precision for the model in predicting money lost in residential sector is the same as the precision for the model in predicting money lost in other sector.\n",
    "\n",
    "**Alternative Hypothesis**: The precision for the model in predicting money lost in residential sector is different from the precision for the model in predicting money lost in other sector."
   ]
  },
  {
   "cell_type": "code",
   "execution_count": 50,
   "metadata": {},
   "outputs": [
    {
     "data": {
      "text/plain": [
       "1.0"
      ]
     },
     "execution_count": 50,
     "metadata": {},
     "output_type": "execute_result"
    }
   ],
   "source": [
    "get_R_square = lambda x: model.score(x.drop(['MONEY.LOST'], axis=1), x['MONEY.LOST'])\n",
    "\n",
    "R_square_diff = []\n",
    "observed = outage_trans.groupby('SECTOR').apply(get_R_square).diff().abs().iloc[-1]\n",
    "num_iter = 1000\n",
    "\n",
    "for _ in range(num_iter):\n",
    "    df = outage_trans.copy()\n",
    "    with_shuffled = df.assign(SECTOR=np.random.permutation(df['SECTOR']))\n",
    "    R_square_diff.append(with_shuffled.groupby('SECTOR').apply(get_R_square).diff().abs().iloc[-1])\n",
    "p_value = (R_square_diff > observed).mean()\n",
    "p_value"
   ]
  },
  {
   "cell_type": "code",
   "execution_count": 53,
   "metadata": {},
   "outputs": [
    {
     "data": {
      "application/vnd.plotly.v1+json": {
       "config": {
        "plotlyServerURL": "https://plot.ly"
       },
       "data": [
        {
         "alignmentgroup": "True",
         "bingroup": "x",
         "histnorm": "probability",
         "hovertemplate": "variable=Difference in R-square value<br>value=%{x}<br>probability=%{y}<extra></extra>",
         "legendgroup": "Difference in R-square value",
         "marker": {
          "color": "#636efa",
          "pattern": {
           "shape": ""
          }
         },
         "name": "Difference in R-square value",
         "offsetgroup": "Difference in R-square value",
         "orientation": "v",
         "showlegend": true,
         "type": "histogram",
         "x": [
          32.83800806779225,
          4.682810583688553,
          5.100701054616586,
          7.432815635725674,
          29.036613178198643,
          4.934850773964797,
          5.284559887498197,
          7.220817359545583,
          7.749539098787469,
          5.778940386123461,
          44.26767813622256,
          6.651016766975372,
          5.093759675940811,
          6.405424505191126,
          4.130025100536027,
          5.167398308516086,
          5.761825918462507,
          4.94903400137113,
          4.626835089507667,
          5.120674113877418,
          5.403170801431978,
          16.049016337900916,
          3.467464807629874,
          7.558488820616405,
          6.2640256285794775,
          12.827692695250542,
          12.844575339917293,
          10.003783160213224,
          6.277647451753801,
          4.56985059398524,
          15.29588252587892,
          5.122591083089243,
          6.527170906369942,
          13.140198375141525,
          4.669502658103852,
          7.543539640868609,
          9.395300346511172,
          7.801602237367009,
          5.917716967118236,
          8.639790913081807,
          6.059672947185658,
          4.113135479414749,
          5.31291161983812,
          20.308499737465986,
          3.849439165148944,
          11.47433389869806,
          10.383635898264913,
          27.144965836481965,
          8.453010092516067,
          5.0814171920842615,
          6.489978800927619,
          30.672455421898377,
          5.483689212793655,
          7.036660533344181,
          10.334252746917555,
          7.8714598071464925,
          4.38214935812801,
          8.271555398287544,
          6.377061687517994,
          5.502619451847663,
          5.584193047029686,
          24.428823190379095,
          5.013721277293064,
          6.299409611647427,
          4.275088733798496,
          6.952160769353469,
          6.750768676431227,
          14.038647761373733,
          4.373970097769189,
          6.784413645975809,
          10.325272868698143,
          5.260313142133959,
          3.585361412646944,
          5.278846705808047,
          5.6494294535556255,
          8.821754644441343,
          4.617533242841442,
          29.189165739058865,
          11.905380315188186,
          4.2068822807938115,
          9.5825604378816,
          6.931305032888867,
          4.551804420646754,
          7.414042480649548,
          4.542847857271795,
          4.853667614465462,
          14.900055846715194,
          24.28083718116566,
          6.022640123399332,
          10.225990141892861,
          4.419659565182938,
          7.577859066937656,
          6.408856744599938,
          6.069338960403732,
          7.843732842681963,
          7.763624026776285,
          4.322929711114131,
          12.83623154063777,
          5.024113273153291,
          13.452613077950858,
          29.505778115165548,
          3.3648002865707767,
          10.566202901251856,
          5.289606914285692,
          27.296326315105077,
          5.27047464068771,
          16.43058436546361,
          13.859804898440045,
          7.661197495487942,
          10.158124073086242,
          6.4272822987240605,
          6.518471143365462,
          37.495882365433225,
          7.655055885198723,
          6.913839107871802,
          28.212687670991194,
          8.766372383119386,
          5.782114654122327,
          5.585176724223482,
          9.207761979662251,
          6.206233410942342,
          8.199851171603559,
          4.012776451717101,
          7.0985388297282626,
          10.359341473223122,
          5.479280991575221,
          26.578594232205536,
          11.841612359353643,
          6.136633525046216,
          4.956789434624083,
          4.625254074167463,
          42.589245781921335,
          5.857246268907382,
          3.792397195273075,
          14.579648399760234,
          8.709946088029298,
          6.39482842963741,
          8.58381554874802,
          12.290367431860263,
          16.818796494114878,
          7.69398142030005,
          4.015860695673622,
          9.578206579896916,
          3.636904860312189,
          44.49650495690256,
          11.346069690741757,
          11.498853726000982,
          29.97323244939026,
          19.478769854307213,
          5.752352711007812,
          33.37412142403174,
          13.790854784153066,
          5.661790859267923,
          10.484399648280679,
          16.333912412793893,
          3.5120168132678016,
          5.465463201065432,
          15.496237952529027,
          7.002658067018331,
          26.08978945129652,
          4.067049656092903,
          5.113495858148625,
          25.38659712608973,
          12.76106971649874,
          9.823440912794526,
          16.326273657306142,
          10.2127048830289,
          5.960573263017071,
          6.737500873906471,
          6.718443460165817,
          50.74845176242026,
          7.612757485128739,
          35.85766273000387,
          12.277698452818871,
          10.900046201127859,
          9.92273749842305,
          23.90787723244002,
          7.244014894157418,
          4.0796064225056705,
          21.88966807159691,
          3.884181498386577,
          6.2396259663945575,
          16.482243259691572,
          6.801001910245059,
          27.522699592569428,
          4.240601003628349,
          6.854924236961307,
          3.7314571891218438,
          5.865096093618384,
          24.97749384436378,
          6.866204780646377,
          6.422137936313749,
          3.6065488968444352,
          9.701381995357055,
          10.882457348045234,
          6.461978056529419,
          5.875912707103548,
          7.001721647648588,
          4.251834826638452,
          7.812000948543483,
          5.762959029807876,
          32.478873190666434,
          6.063671568559999,
          5.080550401721305,
          12.784479535608341,
          9.172778140910681,
          16.000643027837466,
          22.74252343612134,
          5.287881900682772,
          3.89861745945474,
          10.68789548403744,
          13.461918611455662,
          34.50988158006887,
          13.954849631178515,
          3.5630324419849857,
          6.645023107577837,
          3.877636472659707,
          5.30838781077389,
          3.28626579198042,
          5.814492692036327,
          8.27005924800484,
          4.698494524797432,
          11.744679813936276,
          7.856291036783641,
          43.265016576626415,
          7.3953204863652235,
          4.657416710712497,
          4.962128508512195,
          3.638318304245108,
          12.665241472525047,
          4.500357876043453,
          6.060133727044642,
          4.556926083667185,
          10.019152030203356,
          8.824317836457261,
          4.6042737841398775,
          4.257625949812957,
          14.9628040793948,
          8.845461229767812,
          4.424472906036849,
          9.583393574330183,
          5.960789389424489,
          10.473353549552467,
          7.448510678758914,
          8.009079940752477,
          4.02380295997436,
          5.6687047421961,
          6.280415980760006,
          12.995622130675024,
          6.407715555391118,
          4.444767878580667,
          8.05814019089833,
          4.174058705433699,
          4.218123682099519,
          8.979791196152064,
          5.306396347702069,
          4.654831151456955,
          4.56192391644209,
          7.145623562022334,
          5.89887843282411,
          5.181190603696657,
          8.789833189240884,
          19.476565819277177,
          8.071803697653571,
          6.154023025999755,
          11.929384747643757,
          14.764971248576314,
          16.470529409404687,
          4.832972353721466,
          16.308048554793483,
          18.199866442653523,
          28.145260325078375,
          3.9315573447001393,
          9.262473330711584,
          4.013069648574599,
          4.6956351603299495,
          9.978249096987401,
          30.164578406974226,
          4.221410238310726,
          10.94127062290735,
          5.50305962776309,
          12.132636322872965,
          4.3771704779010285,
          42.42515794311241,
          9.69102201291424,
          39.758261729966165,
          4.007893832875871,
          35.75330652213276,
          23.10988296752234,
          3.4055114102036903,
          43.65369460101032,
          6.49394920001071,
          4.158453702146921,
          17.64879102831129,
          6.073480709877549,
          8.223143017043347,
          37.466571466217474,
          6.092938085518173,
          5.743099338283966,
          34.78648987430081,
          10.90661985453955,
          22.226966255986433,
          5.515235849774331,
          7.63851795106639,
          26.206894477699294,
          11.903177289446768,
          10.086052064639231,
          4.991297427809146,
          23.299734467780986,
          5.129218116214993,
          15.655710815799736,
          12.26674213354065,
          8.857961451712663,
          4.538183831710521,
          14.50168825527545,
          8.006562295868425,
          7.277454310808189,
          4.262445573612668,
          27.65951788131571,
          4.9825388034632,
          9.581558993588843,
          10.163672569401548,
          47.83665564878878,
          4.43470362646792,
          4.673846825508594,
          5.856995134313502,
          4.512131954996921,
          10.312717131301392,
          3.996881811041202,
          5.086375594327065,
          3.9298801369961236,
          14.286358654062115,
          7.640252152985203,
          7.019586543489041,
          8.877749353585909,
          51.18189086130069,
          13.602441185375424,
          10.883777111912899,
          7.6398429019113685,
          4.66316020612084,
          5.831452669381518,
          9.402806955155388,
          4.862135418305892,
          10.831339777512447,
          5.835731124069367,
          10.058183739485523,
          4.211978366853762,
          22.219052692615186,
          8.334780815130705,
          6.510349640819725,
          30.611738487787147,
          9.679979403027925,
          8.95689720946251,
          8.341898766272138,
          22.83455687753002,
          7.868901507937563,
          5.510897019139595,
          14.42386731512686,
          9.954073597214297,
          6.182380655906382,
          4.58869496901803,
          15.124077652626715,
          10.141939690796205,
          8.245525948835922,
          15.540385507004455,
          8.107749398700259,
          5.388271500282928,
          6.03055729577842,
          7.345668577359326,
          7.729887206339615,
          4.700167546182537,
          3.0310951941114332,
          10.103165766231141,
          10.441276173394067,
          4.5614924870047115,
          5.746659164000595,
          3.8234283087862178,
          3.2794872961825243,
          3.807115201272298,
          10.472545442877491,
          30.77548312077878,
          3.9248395537998966,
          16.097036216081012,
          25.58401926216042,
          4.206171179822917,
          4.407267088084577,
          18.452888761173273,
          5.098654212170219,
          11.942902197938361,
          6.669410781229699,
          5.817100570543371,
          11.97473122279109,
          9.630920518392307,
          7.255775882622572,
          7.379382346449265,
          4.8146602202911595,
          8.454467164914844,
          4.355734548251814,
          4.848882462411185,
          8.448621532191105,
          10.892240788148824,
          9.329945609629899,
          18.79304883501478,
          10.210034437446023,
          9.536884847555442,
          4.953731863830835,
          6.459559157044985,
          10.092812711209337,
          15.965643421478841,
          10.121772604298265,
          5.374205182871842,
          9.083901868280106,
          10.373759819225068,
          12.135603053144466,
          6.836778932808644,
          4.145479993898769,
          31.94349523230537,
          8.741386070739619,
          5.497443182206,
          6.110110710398901,
          6.091748585277191,
          6.103837303194056,
          4.015918688581908,
          9.732878410932953,
          9.112718818202868,
          8.896018683180682,
          3.714413852341489,
          4.85272047497544,
          45.30314510275414,
          8.65736368412474,
          31.56293715788541,
          7.423221294726129,
          3.9096663844724655,
          11.210211340281633,
          5.0003330543735265,
          5.806614207766572,
          7.499812232029712,
          4.466194090549834,
          6.934111911436693,
          10.977336492109046,
          15.007879445365203,
          5.034247443939767,
          4.090934575422363,
          4.981551685199926,
          5.585415529222436,
          9.302288267227592,
          46.02252842775563,
          21.091618506402227,
          6.065800157958982,
          27.739213174120284,
          3.963810952832488,
          32.37562537361125,
          18.946307016572906,
          12.868274882224439,
          12.592521863559398,
          10.424028917622074,
          10.124100914284034,
          23.607649046586012,
          27.501325518143037,
          5.177873416322025,
          10.560452940445048,
          5.9417934548419105,
          6.680268373091521,
          4.966418434822684,
          42.12445427158896,
          6.768927896560466,
          47.60564643707735,
          14.501856956963044,
          5.011568415368923,
          14.896045077964688,
          29.167778184503558,
          17.792516999327805,
          8.286859734716982,
          35.28944346350633,
          22.110429065887026,
          7.609817408976885,
          3.7181637871241358,
          4.619747990685367,
          7.097373641710764,
          6.633158987572726,
          6.959697835954089,
          6.143225663923924,
          37.10728076951531,
          5.8042995606261645,
          5.392215884316414,
          8.35092169241649,
          4.673963656325842,
          4.577726788341362,
          6.522581342990394,
          5.835267320377534,
          9.348705536555096,
          6.072324542174299,
          10.243760896523439,
          3.3743051894642,
          6.822201532390126,
          6.228061462743898,
          48.419762500214375,
          6.318004825983911,
          6.0334128582164235,
          24.107007123694817,
          7.8735937530108835,
          5.615311616246895,
          4.264492981972797,
          5.516665844992492,
          11.46909567083538,
          5.055856957241894,
          10.286674045083467,
          41.86134989889891,
          4.260003544853021,
          4.3469870150516545,
          4.4761054222396,
          9.667272035356499,
          8.107883170590261,
          10.911960770470873,
          7.500425452797569,
          8.65223247627282,
          5.29089724021473,
          4.507730023219584,
          6.2460860752895915,
          10.661363135124898,
          10.363025611674024,
          5.35804465669252,
          4.124082519567652,
          5.466510513438115,
          7.14272309529531,
          9.364070837303627,
          4.340534582785451,
          11.357060728537407,
          6.602050921823707,
          11.223961235093526,
          13.211567271808972,
          8.33711388175688,
          25.205357989721552,
          11.96073165795961,
          20.041595325598315,
          4.48258724004546,
          19.29000006076947,
          6.889522535369026,
          8.168800046190935,
          11.618591845826268,
          29.793076111110953,
          12.84174246726918,
          9.374652842824426,
          6.311316894759082,
          38.91029415181734,
          11.002446689804637,
          10.76032800582044,
          7.703885464303822,
          32.18958622086622,
          13.187593685694633,
          34.06233247043121,
          5.9505891622668186,
          27.104403537663547,
          7.269138010251371,
          5.286552779435758,
          7.304141392749977,
          7.246753353453344,
          8.487954596238923,
          30.805084822474328,
          4.09568092644042,
          34.40361899575439,
          25.108440855341343,
          4.057021826958345,
          17.841552171079062,
          5.2161497789691555,
          4.476111353946866,
          9.506743155450865,
          10.427593253296525,
          16.706295591188656,
          11.502533163808534,
          5.485737501165731,
          42.93982458812545,
          9.01502155193733,
          15.572200893031892,
          12.464766141956499,
          8.174149503452394,
          8.04217087344545,
          8.444343384322067,
          34.64441581003603,
          22.797400935928398,
          8.736100879336094,
          7.940653588787981,
          9.05749721766066,
          8.176943979186325,
          11.254497604969405,
          10.180764833749462,
          9.568983052834358,
          6.998982304841011,
          7.1620146047667905,
          10.442043872247622,
          60.34856609050844,
          5.70599351964384,
          3.899735444118706,
          7.244937714270561,
          6.319449995014468,
          5.65728318128426,
          16.00684352063783,
          13.196195286115124,
          4.721681842249135,
          5.636834792864939,
          42.38762271149452,
          3.711236935926353,
          5.049355593792554,
          3.986895100427529,
          9.295841622735747,
          3.809700214761522,
          4.510180311262108,
          8.816840149485225,
          6.877397713106689,
          9.433385190973775,
          3.42386093358936,
          4.898549733767985,
          7.143283945951623,
          8.81770626437212,
          7.811008268665503,
          9.278669086347913,
          11.022165051221727,
          5.123968279685643,
          4.1885163925940345,
          6.22687954929586,
          25.092963859517763,
          11.479024740209848,
          6.136321095037286,
          27.620879510470573,
          13.003942435766614,
          22.02205754179253,
          15.7719444776447,
          15.001270469605178,
          5.964596252490914,
          18.494896122300872,
          4.538285245816573,
          29.699652950299118,
          4.7173727398147625,
          8.67540533658216,
          8.655432629403935,
          12.247391226074615,
          21.815975659769247,
          10.435299352543316,
          7.022015573597704,
          6.424146464992448,
          4.246610252169261,
          7.514376968351915,
          9.719695960460507,
          6.905360805663795,
          6.369227557807967,
          7.263293168798034,
          15.973844537153397,
          9.186158087421536,
          3.959780248036997,
          10.335021540875102,
          3.3677079820054825,
          17.166188461043692,
          5.553592908015785,
          8.8120529540592,
          5.970046440406592,
          6.009237061806643,
          5.853379611074204,
          6.997050350532289,
          9.250718396994433,
          7.771468768418428,
          5.254099620699642,
          5.929181865992886,
          7.2304537062322005,
          14.261180560988214,
          7.10556587342801,
          10.525656826265681,
          27.258117096541557,
          17.2236223501407,
          6.142915038928926,
          16.47705393707078,
          6.457741149047198,
          16.89253972898876,
          7.940185076436714,
          6.691479690082668,
          4.305950142189543,
          16.70017508083125,
          5.675009170419928,
          3.810414593794719,
          5.668428883196014,
          4.049992023107793,
          14.736697265583178,
          6.002807357400556,
          12.249946131616804,
          4.475669203530048,
          5.426401252674638,
          43.150749314845285,
          11.944559968229333,
          38.52925335350622,
          5.983752770378114,
          8.49169011340953,
          10.331830121509485,
          6.341367083697468,
          6.88363429098028,
          30.24775303598961,
          30.870006008045326,
          54.29069772477401,
          5.616809745658212,
          8.023402249386423,
          10.674602632182571,
          15.271374428671377,
          4.0943402169897105,
          25.583342366237215,
          8.130109223877911,
          4.485113294722274,
          3.8760681257724543,
          3.875968123693173,
          10.725949679960372,
          4.475370633506686,
          6.088039417754061,
          8.933559074898719,
          31.617134999257914,
          10.65078956515334,
          19.92280085265236,
          11.538818863949583,
          12.977692679248658,
          6.941816253047883,
          3.4013259400150044,
          8.425541604535962,
          12.6820440684273,
          11.239494982023423,
          8.514033774786977,
          8.844175029141374,
          10.818750913464074,
          7.781606189552999,
          4.448098303756765,
          4.9627322198276085,
          25.89280327977271,
          10.60992696471805,
          4.953515436167657,
          5.656362738687252,
          40.94321281444062,
          10.34289933306634,
          12.081342123658617,
          13.739934952671929,
          7.4537548273669945,
          19.846144704439453,
          10.451309766561256,
          8.688480268262854,
          13.388408660130272,
          14.027984440209083,
          6.930799565944552,
          4.612926138225228,
          10.847298296111665,
          10.485098387274455,
          4.135086348664824,
          12.093466205479249,
          5.278992547552195,
          15.100007010411481,
          4.8470010270100286,
          9.185168140324226,
          3.514681452555611,
          4.556075469148339,
          6.2799749344741045,
          7.830947051111141,
          36.965945358528494,
          13.743039124041605,
          6.60986543932314,
          15.5587133837596,
          7.941224464316305,
          15.63966135875921,
          4.259506738416449,
          5.288404436392967,
          4.330489584544541,
          13.605231877694795,
          10.032660612542815,
          4.404887531809275,
          7.198614722150045,
          32.572024584595404,
          6.752221465602962,
          18.26455486074719,
          5.997254467507066,
          9.902977453543247,
          4.493296526869627,
          4.054051607141892,
          9.763153718407969,
          10.50659739380142,
          6.968262197909253,
          8.004367138262566,
          7.177768450002334,
          6.2630778119294925,
          9.292296288672008,
          36.294727061154774,
          6.178370265752995,
          14.113675357001092,
          6.344477541659758,
          8.27811952459837,
          38.65759210745302,
          18.95460795405835,
          6.195188832439758,
          10.771655072296882,
          8.079835185943516,
          7.730996763412778,
          12.806825058200436,
          11.980366530773445,
          3.9578853799052895,
          23.715584594652867,
          10.402715062904798,
          5.1063196440697665,
          3.6154041735808797,
          6.7617162724315465,
          5.379309860319972,
          3.4423711288608114,
          29.81934045012525,
          11.734113951001923,
          15.50637470290102,
          6.376929407251969,
          6.707097235799869,
          6.3760917483992685,
          22.168314882429833,
          30.09068243907062,
          4.856775757667591,
          12.539202000701158,
          5.955645476343638,
          7.411418033781334,
          10.90639253115942,
          5.69563517240537,
          23.44181156698391,
          14.237198875172286,
          4.260449157847131,
          7.366157162263628,
          35.01734424550307,
          4.836713929438914,
          8.02706280577709,
          4.211212996428493,
          6.155897315367896,
          27.41317548544422,
          6.558295759626224,
          6.692806583163037,
          7.177311477610112,
          43.69612044566651,
          4.7546466444724675,
          12.21395092641545,
          10.415296192610274,
          16.001928964409025,
          4.586585411720715,
          6.9321596978513975,
          8.211377698913404,
          36.84877832349388,
          5.98445922115007,
          10.656904925986497,
          13.905921542539206,
          7.70820806969986,
          5.413162317594442,
          5.43142893474399,
          10.082280621449787,
          4.8829961666911155,
          7.831994982030303,
          7.494926477047703,
          6.139110508812702,
          4.9528550482802185,
          8.60540982168138,
          10.423918990469167,
          9.94135993452445,
          6.165873740984912,
          4.7743686694802046,
          25.963530565457173,
          4.256182561128188,
          5.18384111510756,
          8.721434524304632,
          29.384415117236383,
          9.914463350673381,
          4.352608659942639,
          6.312931176670569,
          6.33484041692153,
          5.012955212050405,
          14.682837130499061,
          11.931671426466881,
          10.455864156865761,
          6.2165924353865565,
          3.7223975756412715,
          7.679161081876491,
          3.9357362064099504,
          5.775714695324565,
          15.333081882879437,
          5.072841826171237,
          4.460263355884495,
          14.94556459619681,
          3.4573302599010987,
          9.567582378253437,
          4.1878037766489635,
          10.413054994611059,
          4.869325500705448,
          3.5101858990315384,
          6.006069817277848,
          6.050481065918636,
          27.87083480337169,
          10.281006892373696,
          8.004897301024235,
          13.866486610459487,
          6.979129267675624,
          4.112662603466558,
          6.25110076593051,
          3.5571676301134754,
          5.420477052300629,
          9.048651896670965,
          6.970679473961149,
          14.67356908712017,
          5.435641187858122,
          6.376837822213604,
          15.795500947468813,
          4.717512141973466,
          8.467659020459529,
          3.837207335376067,
          21.4041984806272,
          7.809218557223104,
          41.42936739048506,
          9.8464302911477,
          6.672714476811125,
          8.851258600157356,
          5.584207405676615,
          8.743416335685305,
          6.590937609924834,
          8.263698425296393,
          6.6400660935740214,
          3.8743767103342885,
          4.251760246173331,
          44.93919478762811,
          10.432322201688368,
          4.901116682694913,
          5.735262048117704,
          13.299542618849301,
          14.585207033303043,
          3.910817797221167,
          4.383019530284427,
          8.976293629434126,
          6.614590864541987,
          5.633488200800842,
          4.166094975246398,
          7.209831624524922,
          7.329131834467189,
          4.569222101710462,
          5.028577182614733,
          35.07894995580139,
          3.3755469703095993,
          10.877812955976452,
          11.787560846923359,
          13.896469851276734,
          4.513832377701715,
          10.714037143017253,
          11.020915959114085,
          4.7336384052398355,
          4.835838201679895,
          6.7944161912392085,
          6.882421317995708,
          11.343191888890642,
          43.91044370836231,
          4.667515168381132,
          39.16588584358097,
          4.095028573791852,
          7.824071643367316,
          17.00083081114575,
          12.277785822727015,
          5.307626251946895,
          7.207791978578992,
          7.389083908771417,
          9.216010754948172,
          5.621914468594583,
          5.773665956019389,
          5.276143738242679,
          5.560777396376968,
          8.785207983021065,
          6.042982049249226,
          5.060973701864505,
          33.348935774926716,
          9.746320090782952,
          9.512067974793851,
          29.328960022718434,
          4.968619620616318,
          4.739510446229744,
          4.86407225303632,
          14.083928896810278,
          40.12063903134152,
          6.222647040454062,
          44.893841709147715,
          10.947271415293327,
          10.14459762493038,
          15.89803820176176,
          11.599421130325249,
          11.528925220783496,
          9.758519638669483,
          5.485246021992323,
          9.810239788084722,
          12.638755291375888,
          24.962135281484795,
          6.691048323133295,
          5.512142297725921,
          4.535066279049798,
          7.123005414368491,
          4.171005495355762,
          7.536003623371136,
          7.151923431849135,
          13.20644641657278,
          9.3710249549633,
          45.77561218142203,
          4.1849567864350155,
          5.55270394306564,
          10.865431058483617,
          6.09536447775509,
          9.224617000531419,
          6.936859085529934
         ],
         "xaxis": "x",
         "yaxis": "y"
        }
       ],
       "layout": {
        "barmode": "relative",
        "legend": {
         "title": {
          "text": "variable"
         },
         "tracegroupgap": 0
        },
        "shapes": [
         {
          "line": {
           "color": "red"
          },
          "type": "line",
          "x0": 0.11175490412877942,
          "x1": 0.11175490412877942,
          "xref": "x",
          "y0": 0,
          "y1": 1,
          "yref": "y domain"
         }
        ],
        "template": {
         "data": {
          "bar": [
           {
            "error_x": {
             "color": "#2a3f5f"
            },
            "error_y": {
             "color": "#2a3f5f"
            },
            "marker": {
             "line": {
              "color": "#E5ECF6",
              "width": 0.5
             },
             "pattern": {
              "fillmode": "overlay",
              "size": 10,
              "solidity": 0.2
             }
            },
            "type": "bar"
           }
          ],
          "barpolar": [
           {
            "marker": {
             "line": {
              "color": "#E5ECF6",
              "width": 0.5
             },
             "pattern": {
              "fillmode": "overlay",
              "size": 10,
              "solidity": 0.2
             }
            },
            "type": "barpolar"
           }
          ],
          "carpet": [
           {
            "aaxis": {
             "endlinecolor": "#2a3f5f",
             "gridcolor": "white",
             "linecolor": "white",
             "minorgridcolor": "white",
             "startlinecolor": "#2a3f5f"
            },
            "baxis": {
             "endlinecolor": "#2a3f5f",
             "gridcolor": "white",
             "linecolor": "white",
             "minorgridcolor": "white",
             "startlinecolor": "#2a3f5f"
            },
            "type": "carpet"
           }
          ],
          "choropleth": [
           {
            "colorbar": {
             "outlinewidth": 0,
             "ticks": ""
            },
            "type": "choropleth"
           }
          ],
          "contour": [
           {
            "colorbar": {
             "outlinewidth": 0,
             "ticks": ""
            },
            "colorscale": [
             [
              0,
              "#0d0887"
             ],
             [
              0.1111111111111111,
              "#46039f"
             ],
             [
              0.2222222222222222,
              "#7201a8"
             ],
             [
              0.3333333333333333,
              "#9c179e"
             ],
             [
              0.4444444444444444,
              "#bd3786"
             ],
             [
              0.5555555555555556,
              "#d8576b"
             ],
             [
              0.6666666666666666,
              "#ed7953"
             ],
             [
              0.7777777777777778,
              "#fb9f3a"
             ],
             [
              0.8888888888888888,
              "#fdca26"
             ],
             [
              1,
              "#f0f921"
             ]
            ],
            "type": "contour"
           }
          ],
          "contourcarpet": [
           {
            "colorbar": {
             "outlinewidth": 0,
             "ticks": ""
            },
            "type": "contourcarpet"
           }
          ],
          "heatmap": [
           {
            "colorbar": {
             "outlinewidth": 0,
             "ticks": ""
            },
            "colorscale": [
             [
              0,
              "#0d0887"
             ],
             [
              0.1111111111111111,
              "#46039f"
             ],
             [
              0.2222222222222222,
              "#7201a8"
             ],
             [
              0.3333333333333333,
              "#9c179e"
             ],
             [
              0.4444444444444444,
              "#bd3786"
             ],
             [
              0.5555555555555556,
              "#d8576b"
             ],
             [
              0.6666666666666666,
              "#ed7953"
             ],
             [
              0.7777777777777778,
              "#fb9f3a"
             ],
             [
              0.8888888888888888,
              "#fdca26"
             ],
             [
              1,
              "#f0f921"
             ]
            ],
            "type": "heatmap"
           }
          ],
          "heatmapgl": [
           {
            "colorbar": {
             "outlinewidth": 0,
             "ticks": ""
            },
            "colorscale": [
             [
              0,
              "#0d0887"
             ],
             [
              0.1111111111111111,
              "#46039f"
             ],
             [
              0.2222222222222222,
              "#7201a8"
             ],
             [
              0.3333333333333333,
              "#9c179e"
             ],
             [
              0.4444444444444444,
              "#bd3786"
             ],
             [
              0.5555555555555556,
              "#d8576b"
             ],
             [
              0.6666666666666666,
              "#ed7953"
             ],
             [
              0.7777777777777778,
              "#fb9f3a"
             ],
             [
              0.8888888888888888,
              "#fdca26"
             ],
             [
              1,
              "#f0f921"
             ]
            ],
            "type": "heatmapgl"
           }
          ],
          "histogram": [
           {
            "marker": {
             "pattern": {
              "fillmode": "overlay",
              "size": 10,
              "solidity": 0.2
             }
            },
            "type": "histogram"
           }
          ],
          "histogram2d": [
           {
            "colorbar": {
             "outlinewidth": 0,
             "ticks": ""
            },
            "colorscale": [
             [
              0,
              "#0d0887"
             ],
             [
              0.1111111111111111,
              "#46039f"
             ],
             [
              0.2222222222222222,
              "#7201a8"
             ],
             [
              0.3333333333333333,
              "#9c179e"
             ],
             [
              0.4444444444444444,
              "#bd3786"
             ],
             [
              0.5555555555555556,
              "#d8576b"
             ],
             [
              0.6666666666666666,
              "#ed7953"
             ],
             [
              0.7777777777777778,
              "#fb9f3a"
             ],
             [
              0.8888888888888888,
              "#fdca26"
             ],
             [
              1,
              "#f0f921"
             ]
            ],
            "type": "histogram2d"
           }
          ],
          "histogram2dcontour": [
           {
            "colorbar": {
             "outlinewidth": 0,
             "ticks": ""
            },
            "colorscale": [
             [
              0,
              "#0d0887"
             ],
             [
              0.1111111111111111,
              "#46039f"
             ],
             [
              0.2222222222222222,
              "#7201a8"
             ],
             [
              0.3333333333333333,
              "#9c179e"
             ],
             [
              0.4444444444444444,
              "#bd3786"
             ],
             [
              0.5555555555555556,
              "#d8576b"
             ],
             [
              0.6666666666666666,
              "#ed7953"
             ],
             [
              0.7777777777777778,
              "#fb9f3a"
             ],
             [
              0.8888888888888888,
              "#fdca26"
             ],
             [
              1,
              "#f0f921"
             ]
            ],
            "type": "histogram2dcontour"
           }
          ],
          "mesh3d": [
           {
            "colorbar": {
             "outlinewidth": 0,
             "ticks": ""
            },
            "type": "mesh3d"
           }
          ],
          "parcoords": [
           {
            "line": {
             "colorbar": {
              "outlinewidth": 0,
              "ticks": ""
             }
            },
            "type": "parcoords"
           }
          ],
          "pie": [
           {
            "automargin": true,
            "type": "pie"
           }
          ],
          "scatter": [
           {
            "fillpattern": {
             "fillmode": "overlay",
             "size": 10,
             "solidity": 0.2
            },
            "type": "scatter"
           }
          ],
          "scatter3d": [
           {
            "line": {
             "colorbar": {
              "outlinewidth": 0,
              "ticks": ""
             }
            },
            "marker": {
             "colorbar": {
              "outlinewidth": 0,
              "ticks": ""
             }
            },
            "type": "scatter3d"
           }
          ],
          "scattercarpet": [
           {
            "marker": {
             "colorbar": {
              "outlinewidth": 0,
              "ticks": ""
             }
            },
            "type": "scattercarpet"
           }
          ],
          "scattergeo": [
           {
            "marker": {
             "colorbar": {
              "outlinewidth": 0,
              "ticks": ""
             }
            },
            "type": "scattergeo"
           }
          ],
          "scattergl": [
           {
            "marker": {
             "colorbar": {
              "outlinewidth": 0,
              "ticks": ""
             }
            },
            "type": "scattergl"
           }
          ],
          "scattermapbox": [
           {
            "marker": {
             "colorbar": {
              "outlinewidth": 0,
              "ticks": ""
             }
            },
            "type": "scattermapbox"
           }
          ],
          "scatterpolar": [
           {
            "marker": {
             "colorbar": {
              "outlinewidth": 0,
              "ticks": ""
             }
            },
            "type": "scatterpolar"
           }
          ],
          "scatterpolargl": [
           {
            "marker": {
             "colorbar": {
              "outlinewidth": 0,
              "ticks": ""
             }
            },
            "type": "scatterpolargl"
           }
          ],
          "scatterternary": [
           {
            "marker": {
             "colorbar": {
              "outlinewidth": 0,
              "ticks": ""
             }
            },
            "type": "scatterternary"
           }
          ],
          "surface": [
           {
            "colorbar": {
             "outlinewidth": 0,
             "ticks": ""
            },
            "colorscale": [
             [
              0,
              "#0d0887"
             ],
             [
              0.1111111111111111,
              "#46039f"
             ],
             [
              0.2222222222222222,
              "#7201a8"
             ],
             [
              0.3333333333333333,
              "#9c179e"
             ],
             [
              0.4444444444444444,
              "#bd3786"
             ],
             [
              0.5555555555555556,
              "#d8576b"
             ],
             [
              0.6666666666666666,
              "#ed7953"
             ],
             [
              0.7777777777777778,
              "#fb9f3a"
             ],
             [
              0.8888888888888888,
              "#fdca26"
             ],
             [
              1,
              "#f0f921"
             ]
            ],
            "type": "surface"
           }
          ],
          "table": [
           {
            "cells": {
             "fill": {
              "color": "#EBF0F8"
             },
             "line": {
              "color": "white"
             }
            },
            "header": {
             "fill": {
              "color": "#C8D4E3"
             },
             "line": {
              "color": "white"
             }
            },
            "type": "table"
           }
          ]
         },
         "layout": {
          "annotationdefaults": {
           "arrowcolor": "#2a3f5f",
           "arrowhead": 0,
           "arrowwidth": 1
          },
          "autotypenumbers": "strict",
          "coloraxis": {
           "colorbar": {
            "outlinewidth": 0,
            "ticks": ""
           }
          },
          "colorscale": {
           "diverging": [
            [
             0,
             "#8e0152"
            ],
            [
             0.1,
             "#c51b7d"
            ],
            [
             0.2,
             "#de77ae"
            ],
            [
             0.3,
             "#f1b6da"
            ],
            [
             0.4,
             "#fde0ef"
            ],
            [
             0.5,
             "#f7f7f7"
            ],
            [
             0.6,
             "#e6f5d0"
            ],
            [
             0.7,
             "#b8e186"
            ],
            [
             0.8,
             "#7fbc41"
            ],
            [
             0.9,
             "#4d9221"
            ],
            [
             1,
             "#276419"
            ]
           ],
           "sequential": [
            [
             0,
             "#0d0887"
            ],
            [
             0.1111111111111111,
             "#46039f"
            ],
            [
             0.2222222222222222,
             "#7201a8"
            ],
            [
             0.3333333333333333,
             "#9c179e"
            ],
            [
             0.4444444444444444,
             "#bd3786"
            ],
            [
             0.5555555555555556,
             "#d8576b"
            ],
            [
             0.6666666666666666,
             "#ed7953"
            ],
            [
             0.7777777777777778,
             "#fb9f3a"
            ],
            [
             0.8888888888888888,
             "#fdca26"
            ],
            [
             1,
             "#f0f921"
            ]
           ],
           "sequentialminus": [
            [
             0,
             "#0d0887"
            ],
            [
             0.1111111111111111,
             "#46039f"
            ],
            [
             0.2222222222222222,
             "#7201a8"
            ],
            [
             0.3333333333333333,
             "#9c179e"
            ],
            [
             0.4444444444444444,
             "#bd3786"
            ],
            [
             0.5555555555555556,
             "#d8576b"
            ],
            [
             0.6666666666666666,
             "#ed7953"
            ],
            [
             0.7777777777777778,
             "#fb9f3a"
            ],
            [
             0.8888888888888888,
             "#fdca26"
            ],
            [
             1,
             "#f0f921"
            ]
           ]
          },
          "colorway": [
           "#636efa",
           "#EF553B",
           "#00cc96",
           "#ab63fa",
           "#FFA15A",
           "#19d3f3",
           "#FF6692",
           "#B6E880",
           "#FF97FF",
           "#FECB52"
          ],
          "font": {
           "color": "#2a3f5f"
          },
          "geo": {
           "bgcolor": "white",
           "lakecolor": "white",
           "landcolor": "#E5ECF6",
           "showlakes": true,
           "showland": true,
           "subunitcolor": "white"
          },
          "hoverlabel": {
           "align": "left"
          },
          "hovermode": "closest",
          "mapbox": {
           "style": "light"
          },
          "paper_bgcolor": "white",
          "plot_bgcolor": "#E5ECF6",
          "polar": {
           "angularaxis": {
            "gridcolor": "white",
            "linecolor": "white",
            "ticks": ""
           },
           "bgcolor": "#E5ECF6",
           "radialaxis": {
            "gridcolor": "white",
            "linecolor": "white",
            "ticks": ""
           }
          },
          "scene": {
           "xaxis": {
            "backgroundcolor": "#E5ECF6",
            "gridcolor": "white",
            "gridwidth": 2,
            "linecolor": "white",
            "showbackground": true,
            "ticks": "",
            "zerolinecolor": "white"
           },
           "yaxis": {
            "backgroundcolor": "#E5ECF6",
            "gridcolor": "white",
            "gridwidth": 2,
            "linecolor": "white",
            "showbackground": true,
            "ticks": "",
            "zerolinecolor": "white"
           },
           "zaxis": {
            "backgroundcolor": "#E5ECF6",
            "gridcolor": "white",
            "gridwidth": 2,
            "linecolor": "white",
            "showbackground": true,
            "ticks": "",
            "zerolinecolor": "white"
           }
          },
          "shapedefaults": {
           "line": {
            "color": "#2a3f5f"
           }
          },
          "ternary": {
           "aaxis": {
            "gridcolor": "white",
            "linecolor": "white",
            "ticks": ""
           },
           "baxis": {
            "gridcolor": "white",
            "linecolor": "white",
            "ticks": ""
           },
           "bgcolor": "#E5ECF6",
           "caxis": {
            "gridcolor": "white",
            "linecolor": "white",
            "ticks": ""
           }
          },
          "title": {
           "x": 0.05
          },
          "xaxis": {
           "automargin": true,
           "gridcolor": "white",
           "linecolor": "white",
           "ticks": "",
           "title": {
            "standoff": 15
           },
           "zerolinecolor": "white",
           "zerolinewidth": 2
          },
          "yaxis": {
           "automargin": true,
           "gridcolor": "white",
           "linecolor": "white",
           "ticks": "",
           "title": {
            "standoff": 15
           },
           "zerolinecolor": "white",
           "zerolinewidth": 2
          }
         }
        },
        "title": {
         "text": "Distribution of the difference in R-square values"
        },
        "xaxis": {
         "anchor": "y",
         "domain": [
          0,
          1
         ],
         "title": {
          "text": "value"
         }
        },
        "yaxis": {
         "anchor": "x",
         "domain": [
          0,
          1
         ],
         "title": {
          "text": "probability"
         }
        }
       }
      },
      "text/html": [
       "<div>                            <div id=\"aa24c20a-fbba-46ff-8b7d-c6f4d0d933df\" class=\"plotly-graph-div\" style=\"height:525px; width:100%;\"></div>            <script type=\"text/javascript\">                require([\"plotly\"], function(Plotly) {                    window.PLOTLYENV=window.PLOTLYENV || {};                                    if (document.getElementById(\"aa24c20a-fbba-46ff-8b7d-c6f4d0d933df\")) {                    Plotly.newPlot(                        \"aa24c20a-fbba-46ff-8b7d-c6f4d0d933df\",                        [{\"alignmentgroup\":\"True\",\"bingroup\":\"x\",\"histnorm\":\"probability\",\"hovertemplate\":\"variable=Difference in R-square value<br>value=%{x}<br>probability=%{y}<extra></extra>\",\"legendgroup\":\"Difference in R-square value\",\"marker\":{\"color\":\"#636efa\",\"pattern\":{\"shape\":\"\"}},\"name\":\"Difference in R-square value\",\"offsetgroup\":\"Difference in R-square value\",\"orientation\":\"v\",\"showlegend\":true,\"x\":[32.83800806779225,4.682810583688553,5.100701054616586,7.432815635725674,29.036613178198643,4.934850773964797,5.284559887498197,7.220817359545583,7.749539098787469,5.778940386123461,44.26767813622256,6.651016766975372,5.093759675940811,6.405424505191126,4.130025100536027,5.167398308516086,5.761825918462507,4.94903400137113,4.626835089507667,5.120674113877418,5.403170801431978,16.049016337900916,3.467464807629874,7.558488820616405,6.2640256285794775,12.827692695250542,12.844575339917293,10.003783160213224,6.277647451753801,4.56985059398524,15.29588252587892,5.122591083089243,6.527170906369942,13.140198375141525,4.669502658103852,7.543539640868609,9.395300346511172,7.801602237367009,5.917716967118236,8.639790913081807,6.059672947185658,4.113135479414749,5.31291161983812,20.308499737465986,3.849439165148944,11.47433389869806,10.383635898264913,27.144965836481965,8.453010092516067,5.0814171920842615,6.489978800927619,30.672455421898377,5.483689212793655,7.036660533344181,10.334252746917555,7.8714598071464925,4.38214935812801,8.271555398287544,6.377061687517994,5.502619451847663,5.584193047029686,24.428823190379095,5.013721277293064,6.299409611647427,4.275088733798496,6.952160769353469,6.750768676431227,14.038647761373733,4.373970097769189,6.784413645975809,10.325272868698143,5.260313142133959,3.585361412646944,5.278846705808047,5.6494294535556255,8.821754644441343,4.617533242841442,29.189165739058865,11.905380315188186,4.2068822807938115,9.5825604378816,6.931305032888867,4.551804420646754,7.414042480649548,4.542847857271795,4.853667614465462,14.900055846715194,24.28083718116566,6.022640123399332,10.225990141892861,4.419659565182938,7.577859066937656,6.408856744599938,6.069338960403732,7.843732842681963,7.763624026776285,4.322929711114131,12.83623154063777,5.024113273153291,13.452613077950858,29.505778115165548,3.3648002865707767,10.566202901251856,5.289606914285692,27.296326315105077,5.27047464068771,16.43058436546361,13.859804898440045,7.661197495487942,10.158124073086242,6.4272822987240605,6.518471143365462,37.495882365433225,7.655055885198723,6.913839107871802,28.212687670991194,8.766372383119386,5.782114654122327,5.585176724223482,9.207761979662251,6.206233410942342,8.199851171603559,4.012776451717101,7.0985388297282626,10.359341473223122,5.479280991575221,26.578594232205536,11.841612359353643,6.136633525046216,4.956789434624083,4.625254074167463,42.589245781921335,5.857246268907382,3.792397195273075,14.579648399760234,8.709946088029298,6.39482842963741,8.58381554874802,12.290367431860263,16.818796494114878,7.69398142030005,4.015860695673622,9.578206579896916,3.636904860312189,44.49650495690256,11.346069690741757,11.498853726000982,29.97323244939026,19.478769854307213,5.752352711007812,33.37412142403174,13.790854784153066,5.661790859267923,10.484399648280679,16.333912412793893,3.5120168132678016,5.465463201065432,15.496237952529027,7.002658067018331,26.08978945129652,4.067049656092903,5.113495858148625,25.38659712608973,12.76106971649874,9.823440912794526,16.326273657306142,10.2127048830289,5.960573263017071,6.737500873906471,6.718443460165817,50.74845176242026,7.612757485128739,35.85766273000387,12.277698452818871,10.900046201127859,9.92273749842305,23.90787723244002,7.244014894157418,4.0796064225056705,21.88966807159691,3.884181498386577,6.2396259663945575,16.482243259691572,6.801001910245059,27.522699592569428,4.240601003628349,6.854924236961307,3.7314571891218438,5.865096093618384,24.97749384436378,6.866204780646377,6.422137936313749,3.6065488968444352,9.701381995357055,10.882457348045234,6.461978056529419,5.875912707103548,7.001721647648588,4.251834826638452,7.812000948543483,5.762959029807876,32.478873190666434,6.063671568559999,5.080550401721305,12.784479535608341,9.172778140910681,16.000643027837466,22.74252343612134,5.287881900682772,3.89861745945474,10.68789548403744,13.461918611455662,34.50988158006887,13.954849631178515,3.5630324419849857,6.645023107577837,3.877636472659707,5.30838781077389,3.28626579198042,5.814492692036327,8.27005924800484,4.698494524797432,11.744679813936276,7.856291036783641,43.265016576626415,7.3953204863652235,4.657416710712497,4.962128508512195,3.638318304245108,12.665241472525047,4.500357876043453,6.060133727044642,4.556926083667185,10.019152030203356,8.824317836457261,4.6042737841398775,4.257625949812957,14.9628040793948,8.845461229767812,4.424472906036849,9.583393574330183,5.960789389424489,10.473353549552467,7.448510678758914,8.009079940752477,4.02380295997436,5.6687047421961,6.280415980760006,12.995622130675024,6.407715555391118,4.444767878580667,8.05814019089833,4.174058705433699,4.218123682099519,8.979791196152064,5.306396347702069,4.654831151456955,4.56192391644209,7.145623562022334,5.89887843282411,5.181190603696657,8.789833189240884,19.476565819277177,8.071803697653571,6.154023025999755,11.929384747643757,14.764971248576314,16.470529409404687,4.832972353721466,16.308048554793483,18.199866442653523,28.145260325078375,3.9315573447001393,9.262473330711584,4.013069648574599,4.6956351603299495,9.978249096987401,30.164578406974226,4.221410238310726,10.94127062290735,5.50305962776309,12.132636322872965,4.3771704779010285,42.42515794311241,9.69102201291424,39.758261729966165,4.007893832875871,35.75330652213276,23.10988296752234,3.4055114102036903,43.65369460101032,6.49394920001071,4.158453702146921,17.64879102831129,6.073480709877549,8.223143017043347,37.466571466217474,6.092938085518173,5.743099338283966,34.78648987430081,10.90661985453955,22.226966255986433,5.515235849774331,7.63851795106639,26.206894477699294,11.903177289446768,10.086052064639231,4.991297427809146,23.299734467780986,5.129218116214993,15.655710815799736,12.26674213354065,8.857961451712663,4.538183831710521,14.50168825527545,8.006562295868425,7.277454310808189,4.262445573612668,27.65951788131571,4.9825388034632,9.581558993588843,10.163672569401548,47.83665564878878,4.43470362646792,4.673846825508594,5.856995134313502,4.512131954996921,10.312717131301392,3.996881811041202,5.086375594327065,3.9298801369961236,14.286358654062115,7.640252152985203,7.019586543489041,8.877749353585909,51.18189086130069,13.602441185375424,10.883777111912899,7.6398429019113685,4.66316020612084,5.831452669381518,9.402806955155388,4.862135418305892,10.831339777512447,5.835731124069367,10.058183739485523,4.211978366853762,22.219052692615186,8.334780815130705,6.510349640819725,30.611738487787147,9.679979403027925,8.95689720946251,8.341898766272138,22.83455687753002,7.868901507937563,5.510897019139595,14.42386731512686,9.954073597214297,6.182380655906382,4.58869496901803,15.124077652626715,10.141939690796205,8.245525948835922,15.540385507004455,8.107749398700259,5.388271500282928,6.03055729577842,7.345668577359326,7.729887206339615,4.700167546182537,3.0310951941114332,10.103165766231141,10.441276173394067,4.5614924870047115,5.746659164000595,3.8234283087862178,3.2794872961825243,3.807115201272298,10.472545442877491,30.77548312077878,3.9248395537998966,16.097036216081012,25.58401926216042,4.206171179822917,4.407267088084577,18.452888761173273,5.098654212170219,11.942902197938361,6.669410781229699,5.817100570543371,11.97473122279109,9.630920518392307,7.255775882622572,7.379382346449265,4.8146602202911595,8.454467164914844,4.355734548251814,4.848882462411185,8.448621532191105,10.892240788148824,9.329945609629899,18.79304883501478,10.210034437446023,9.536884847555442,4.953731863830835,6.459559157044985,10.092812711209337,15.965643421478841,10.121772604298265,5.374205182871842,9.083901868280106,10.373759819225068,12.135603053144466,6.836778932808644,4.145479993898769,31.94349523230537,8.741386070739619,5.497443182206,6.110110710398901,6.091748585277191,6.103837303194056,4.015918688581908,9.732878410932953,9.112718818202868,8.896018683180682,3.714413852341489,4.85272047497544,45.30314510275414,8.65736368412474,31.56293715788541,7.423221294726129,3.9096663844724655,11.210211340281633,5.0003330543735265,5.806614207766572,7.499812232029712,4.466194090549834,6.934111911436693,10.977336492109046,15.007879445365203,5.034247443939767,4.090934575422363,4.981551685199926,5.585415529222436,9.302288267227592,46.02252842775563,21.091618506402227,6.065800157958982,27.739213174120284,3.963810952832488,32.37562537361125,18.946307016572906,12.868274882224439,12.592521863559398,10.424028917622074,10.124100914284034,23.607649046586012,27.501325518143037,5.177873416322025,10.560452940445048,5.9417934548419105,6.680268373091521,4.966418434822684,42.12445427158896,6.768927896560466,47.60564643707735,14.501856956963044,5.011568415368923,14.896045077964688,29.167778184503558,17.792516999327805,8.286859734716982,35.28944346350633,22.110429065887026,7.609817408976885,3.7181637871241358,4.619747990685367,7.097373641710764,6.633158987572726,6.959697835954089,6.143225663923924,37.10728076951531,5.8042995606261645,5.392215884316414,8.35092169241649,4.673963656325842,4.577726788341362,6.522581342990394,5.835267320377534,9.348705536555096,6.072324542174299,10.243760896523439,3.3743051894642,6.822201532390126,6.228061462743898,48.419762500214375,6.318004825983911,6.0334128582164235,24.107007123694817,7.8735937530108835,5.615311616246895,4.264492981972797,5.516665844992492,11.46909567083538,5.055856957241894,10.286674045083467,41.86134989889891,4.260003544853021,4.3469870150516545,4.4761054222396,9.667272035356499,8.107883170590261,10.911960770470873,7.500425452797569,8.65223247627282,5.29089724021473,4.507730023219584,6.2460860752895915,10.661363135124898,10.363025611674024,5.35804465669252,4.124082519567652,5.466510513438115,7.14272309529531,9.364070837303627,4.340534582785451,11.357060728537407,6.602050921823707,11.223961235093526,13.211567271808972,8.33711388175688,25.205357989721552,11.96073165795961,20.041595325598315,4.48258724004546,19.29000006076947,6.889522535369026,8.168800046190935,11.618591845826268,29.793076111110953,12.84174246726918,9.374652842824426,6.311316894759082,38.91029415181734,11.002446689804637,10.76032800582044,7.703885464303822,32.18958622086622,13.187593685694633,34.06233247043121,5.9505891622668186,27.104403537663547,7.269138010251371,5.286552779435758,7.304141392749977,7.246753353453344,8.487954596238923,30.805084822474328,4.09568092644042,34.40361899575439,25.108440855341343,4.057021826958345,17.841552171079062,5.2161497789691555,4.476111353946866,9.506743155450865,10.427593253296525,16.706295591188656,11.502533163808534,5.485737501165731,42.93982458812545,9.01502155193733,15.572200893031892,12.464766141956499,8.174149503452394,8.04217087344545,8.444343384322067,34.64441581003603,22.797400935928398,8.736100879336094,7.940653588787981,9.05749721766066,8.176943979186325,11.254497604969405,10.180764833749462,9.568983052834358,6.998982304841011,7.1620146047667905,10.442043872247622,60.34856609050844,5.70599351964384,3.899735444118706,7.244937714270561,6.319449995014468,5.65728318128426,16.00684352063783,13.196195286115124,4.721681842249135,5.636834792864939,42.38762271149452,3.711236935926353,5.049355593792554,3.986895100427529,9.295841622735747,3.809700214761522,4.510180311262108,8.816840149485225,6.877397713106689,9.433385190973775,3.42386093358936,4.898549733767985,7.143283945951623,8.81770626437212,7.811008268665503,9.278669086347913,11.022165051221727,5.123968279685643,4.1885163925940345,6.22687954929586,25.092963859517763,11.479024740209848,6.136321095037286,27.620879510470573,13.003942435766614,22.02205754179253,15.7719444776447,15.001270469605178,5.964596252490914,18.494896122300872,4.538285245816573,29.699652950299118,4.7173727398147625,8.67540533658216,8.655432629403935,12.247391226074615,21.815975659769247,10.435299352543316,7.022015573597704,6.424146464992448,4.246610252169261,7.514376968351915,9.719695960460507,6.905360805663795,6.369227557807967,7.263293168798034,15.973844537153397,9.186158087421536,3.959780248036997,10.335021540875102,3.3677079820054825,17.166188461043692,5.553592908015785,8.8120529540592,5.970046440406592,6.009237061806643,5.853379611074204,6.997050350532289,9.250718396994433,7.771468768418428,5.254099620699642,5.929181865992886,7.2304537062322005,14.261180560988214,7.10556587342801,10.525656826265681,27.258117096541557,17.2236223501407,6.142915038928926,16.47705393707078,6.457741149047198,16.89253972898876,7.940185076436714,6.691479690082668,4.305950142189543,16.70017508083125,5.675009170419928,3.810414593794719,5.668428883196014,4.049992023107793,14.736697265583178,6.002807357400556,12.249946131616804,4.475669203530048,5.426401252674638,43.150749314845285,11.944559968229333,38.52925335350622,5.983752770378114,8.49169011340953,10.331830121509485,6.341367083697468,6.88363429098028,30.24775303598961,30.870006008045326,54.29069772477401,5.616809745658212,8.023402249386423,10.674602632182571,15.271374428671377,4.0943402169897105,25.583342366237215,8.130109223877911,4.485113294722274,3.8760681257724543,3.875968123693173,10.725949679960372,4.475370633506686,6.088039417754061,8.933559074898719,31.617134999257914,10.65078956515334,19.92280085265236,11.538818863949583,12.977692679248658,6.941816253047883,3.4013259400150044,8.425541604535962,12.6820440684273,11.239494982023423,8.514033774786977,8.844175029141374,10.818750913464074,7.781606189552999,4.448098303756765,4.9627322198276085,25.89280327977271,10.60992696471805,4.953515436167657,5.656362738687252,40.94321281444062,10.34289933306634,12.081342123658617,13.739934952671929,7.4537548273669945,19.846144704439453,10.451309766561256,8.688480268262854,13.388408660130272,14.027984440209083,6.930799565944552,4.612926138225228,10.847298296111665,10.485098387274455,4.135086348664824,12.093466205479249,5.278992547552195,15.100007010411481,4.8470010270100286,9.185168140324226,3.514681452555611,4.556075469148339,6.2799749344741045,7.830947051111141,36.965945358528494,13.743039124041605,6.60986543932314,15.5587133837596,7.941224464316305,15.63966135875921,4.259506738416449,5.288404436392967,4.330489584544541,13.605231877694795,10.032660612542815,4.404887531809275,7.198614722150045,32.572024584595404,6.752221465602962,18.26455486074719,5.997254467507066,9.902977453543247,4.493296526869627,4.054051607141892,9.763153718407969,10.50659739380142,6.968262197909253,8.004367138262566,7.177768450002334,6.2630778119294925,9.292296288672008,36.294727061154774,6.178370265752995,14.113675357001092,6.344477541659758,8.27811952459837,38.65759210745302,18.95460795405835,6.195188832439758,10.771655072296882,8.079835185943516,7.730996763412778,12.806825058200436,11.980366530773445,3.9578853799052895,23.715584594652867,10.402715062904798,5.1063196440697665,3.6154041735808797,6.7617162724315465,5.379309860319972,3.4423711288608114,29.81934045012525,11.734113951001923,15.50637470290102,6.376929407251969,6.707097235799869,6.3760917483992685,22.168314882429833,30.09068243907062,4.856775757667591,12.539202000701158,5.955645476343638,7.411418033781334,10.90639253115942,5.69563517240537,23.44181156698391,14.237198875172286,4.260449157847131,7.366157162263628,35.01734424550307,4.836713929438914,8.02706280577709,4.211212996428493,6.155897315367896,27.41317548544422,6.558295759626224,6.692806583163037,7.177311477610112,43.69612044566651,4.7546466444724675,12.21395092641545,10.415296192610274,16.001928964409025,4.586585411720715,6.9321596978513975,8.211377698913404,36.84877832349388,5.98445922115007,10.656904925986497,13.905921542539206,7.70820806969986,5.413162317594442,5.43142893474399,10.082280621449787,4.8829961666911155,7.831994982030303,7.494926477047703,6.139110508812702,4.9528550482802185,8.60540982168138,10.423918990469167,9.94135993452445,6.165873740984912,4.7743686694802046,25.963530565457173,4.256182561128188,5.18384111510756,8.721434524304632,29.384415117236383,9.914463350673381,4.352608659942639,6.312931176670569,6.33484041692153,5.012955212050405,14.682837130499061,11.931671426466881,10.455864156865761,6.2165924353865565,3.7223975756412715,7.679161081876491,3.9357362064099504,5.775714695324565,15.333081882879437,5.072841826171237,4.460263355884495,14.94556459619681,3.4573302599010987,9.567582378253437,4.1878037766489635,10.413054994611059,4.869325500705448,3.5101858990315384,6.006069817277848,6.050481065918636,27.87083480337169,10.281006892373696,8.004897301024235,13.866486610459487,6.979129267675624,4.112662603466558,6.25110076593051,3.5571676301134754,5.420477052300629,9.048651896670965,6.970679473961149,14.67356908712017,5.435641187858122,6.376837822213604,15.795500947468813,4.717512141973466,8.467659020459529,3.837207335376067,21.4041984806272,7.809218557223104,41.42936739048506,9.8464302911477,6.672714476811125,8.851258600157356,5.584207405676615,8.743416335685305,6.590937609924834,8.263698425296393,6.6400660935740214,3.8743767103342885,4.251760246173331,44.93919478762811,10.432322201688368,4.901116682694913,5.735262048117704,13.299542618849301,14.585207033303043,3.910817797221167,4.383019530284427,8.976293629434126,6.614590864541987,5.633488200800842,4.166094975246398,7.209831624524922,7.329131834467189,4.569222101710462,5.028577182614733,35.07894995580139,3.3755469703095993,10.877812955976452,11.787560846923359,13.896469851276734,4.513832377701715,10.714037143017253,11.020915959114085,4.7336384052398355,4.835838201679895,6.7944161912392085,6.882421317995708,11.343191888890642,43.91044370836231,4.667515168381132,39.16588584358097,4.095028573791852,7.824071643367316,17.00083081114575,12.277785822727015,5.307626251946895,7.207791978578992,7.389083908771417,9.216010754948172,5.621914468594583,5.773665956019389,5.276143738242679,5.560777396376968,8.785207983021065,6.042982049249226,5.060973701864505,33.348935774926716,9.746320090782952,9.512067974793851,29.328960022718434,4.968619620616318,4.739510446229744,4.86407225303632,14.083928896810278,40.12063903134152,6.222647040454062,44.893841709147715,10.947271415293327,10.14459762493038,15.89803820176176,11.599421130325249,11.528925220783496,9.758519638669483,5.485246021992323,9.810239788084722,12.638755291375888,24.962135281484795,6.691048323133295,5.512142297725921,4.535066279049798,7.123005414368491,4.171005495355762,7.536003623371136,7.151923431849135,13.20644641657278,9.3710249549633,45.77561218142203,4.1849567864350155,5.55270394306564,10.865431058483617,6.09536447775509,9.224617000531419,6.936859085529934],\"xaxis\":\"x\",\"yaxis\":\"y\",\"type\":\"histogram\"}],                        {\"template\":{\"data\":{\"histogram2dcontour\":[{\"type\":\"histogram2dcontour\",\"colorbar\":{\"outlinewidth\":0,\"ticks\":\"\"},\"colorscale\":[[0.0,\"#0d0887\"],[0.1111111111111111,\"#46039f\"],[0.2222222222222222,\"#7201a8\"],[0.3333333333333333,\"#9c179e\"],[0.4444444444444444,\"#bd3786\"],[0.5555555555555556,\"#d8576b\"],[0.6666666666666666,\"#ed7953\"],[0.7777777777777778,\"#fb9f3a\"],[0.8888888888888888,\"#fdca26\"],[1.0,\"#f0f921\"]]}],\"choropleth\":[{\"type\":\"choropleth\",\"colorbar\":{\"outlinewidth\":0,\"ticks\":\"\"}}],\"histogram2d\":[{\"type\":\"histogram2d\",\"colorbar\":{\"outlinewidth\":0,\"ticks\":\"\"},\"colorscale\":[[0.0,\"#0d0887\"],[0.1111111111111111,\"#46039f\"],[0.2222222222222222,\"#7201a8\"],[0.3333333333333333,\"#9c179e\"],[0.4444444444444444,\"#bd3786\"],[0.5555555555555556,\"#d8576b\"],[0.6666666666666666,\"#ed7953\"],[0.7777777777777778,\"#fb9f3a\"],[0.8888888888888888,\"#fdca26\"],[1.0,\"#f0f921\"]]}],\"heatmap\":[{\"type\":\"heatmap\",\"colorbar\":{\"outlinewidth\":0,\"ticks\":\"\"},\"colorscale\":[[0.0,\"#0d0887\"],[0.1111111111111111,\"#46039f\"],[0.2222222222222222,\"#7201a8\"],[0.3333333333333333,\"#9c179e\"],[0.4444444444444444,\"#bd3786\"],[0.5555555555555556,\"#d8576b\"],[0.6666666666666666,\"#ed7953\"],[0.7777777777777778,\"#fb9f3a\"],[0.8888888888888888,\"#fdca26\"],[1.0,\"#f0f921\"]]}],\"heatmapgl\":[{\"type\":\"heatmapgl\",\"colorbar\":{\"outlinewidth\":0,\"ticks\":\"\"},\"colorscale\":[[0.0,\"#0d0887\"],[0.1111111111111111,\"#46039f\"],[0.2222222222222222,\"#7201a8\"],[0.3333333333333333,\"#9c179e\"],[0.4444444444444444,\"#bd3786\"],[0.5555555555555556,\"#d8576b\"],[0.6666666666666666,\"#ed7953\"],[0.7777777777777778,\"#fb9f3a\"],[0.8888888888888888,\"#fdca26\"],[1.0,\"#f0f921\"]]}],\"contourcarpet\":[{\"type\":\"contourcarpet\",\"colorbar\":{\"outlinewidth\":0,\"ticks\":\"\"}}],\"contour\":[{\"type\":\"contour\",\"colorbar\":{\"outlinewidth\":0,\"ticks\":\"\"},\"colorscale\":[[0.0,\"#0d0887\"],[0.1111111111111111,\"#46039f\"],[0.2222222222222222,\"#7201a8\"],[0.3333333333333333,\"#9c179e\"],[0.4444444444444444,\"#bd3786\"],[0.5555555555555556,\"#d8576b\"],[0.6666666666666666,\"#ed7953\"],[0.7777777777777778,\"#fb9f3a\"],[0.8888888888888888,\"#fdca26\"],[1.0,\"#f0f921\"]]}],\"surface\":[{\"type\":\"surface\",\"colorbar\":{\"outlinewidth\":0,\"ticks\":\"\"},\"colorscale\":[[0.0,\"#0d0887\"],[0.1111111111111111,\"#46039f\"],[0.2222222222222222,\"#7201a8\"],[0.3333333333333333,\"#9c179e\"],[0.4444444444444444,\"#bd3786\"],[0.5555555555555556,\"#d8576b\"],[0.6666666666666666,\"#ed7953\"],[0.7777777777777778,\"#fb9f3a\"],[0.8888888888888888,\"#fdca26\"],[1.0,\"#f0f921\"]]}],\"mesh3d\":[{\"type\":\"mesh3d\",\"colorbar\":{\"outlinewidth\":0,\"ticks\":\"\"}}],\"scatter\":[{\"fillpattern\":{\"fillmode\":\"overlay\",\"size\":10,\"solidity\":0.2},\"type\":\"scatter\"}],\"parcoords\":[{\"type\":\"parcoords\",\"line\":{\"colorbar\":{\"outlinewidth\":0,\"ticks\":\"\"}}}],\"scatterpolargl\":[{\"type\":\"scatterpolargl\",\"marker\":{\"colorbar\":{\"outlinewidth\":0,\"ticks\":\"\"}}}],\"bar\":[{\"error_x\":{\"color\":\"#2a3f5f\"},\"error_y\":{\"color\":\"#2a3f5f\"},\"marker\":{\"line\":{\"color\":\"#E5ECF6\",\"width\":0.5},\"pattern\":{\"fillmode\":\"overlay\",\"size\":10,\"solidity\":0.2}},\"type\":\"bar\"}],\"scattergeo\":[{\"type\":\"scattergeo\",\"marker\":{\"colorbar\":{\"outlinewidth\":0,\"ticks\":\"\"}}}],\"scatterpolar\":[{\"type\":\"scatterpolar\",\"marker\":{\"colorbar\":{\"outlinewidth\":0,\"ticks\":\"\"}}}],\"histogram\":[{\"marker\":{\"pattern\":{\"fillmode\":\"overlay\",\"size\":10,\"solidity\":0.2}},\"type\":\"histogram\"}],\"scattergl\":[{\"type\":\"scattergl\",\"marker\":{\"colorbar\":{\"outlinewidth\":0,\"ticks\":\"\"}}}],\"scatter3d\":[{\"type\":\"scatter3d\",\"line\":{\"colorbar\":{\"outlinewidth\":0,\"ticks\":\"\"}},\"marker\":{\"colorbar\":{\"outlinewidth\":0,\"ticks\":\"\"}}}],\"scattermapbox\":[{\"type\":\"scattermapbox\",\"marker\":{\"colorbar\":{\"outlinewidth\":0,\"ticks\":\"\"}}}],\"scatterternary\":[{\"type\":\"scatterternary\",\"marker\":{\"colorbar\":{\"outlinewidth\":0,\"ticks\":\"\"}}}],\"scattercarpet\":[{\"type\":\"scattercarpet\",\"marker\":{\"colorbar\":{\"outlinewidth\":0,\"ticks\":\"\"}}}],\"carpet\":[{\"aaxis\":{\"endlinecolor\":\"#2a3f5f\",\"gridcolor\":\"white\",\"linecolor\":\"white\",\"minorgridcolor\":\"white\",\"startlinecolor\":\"#2a3f5f\"},\"baxis\":{\"endlinecolor\":\"#2a3f5f\",\"gridcolor\":\"white\",\"linecolor\":\"white\",\"minorgridcolor\":\"white\",\"startlinecolor\":\"#2a3f5f\"},\"type\":\"carpet\"}],\"table\":[{\"cells\":{\"fill\":{\"color\":\"#EBF0F8\"},\"line\":{\"color\":\"white\"}},\"header\":{\"fill\":{\"color\":\"#C8D4E3\"},\"line\":{\"color\":\"white\"}},\"type\":\"table\"}],\"barpolar\":[{\"marker\":{\"line\":{\"color\":\"#E5ECF6\",\"width\":0.5},\"pattern\":{\"fillmode\":\"overlay\",\"size\":10,\"solidity\":0.2}},\"type\":\"barpolar\"}],\"pie\":[{\"automargin\":true,\"type\":\"pie\"}]},\"layout\":{\"autotypenumbers\":\"strict\",\"colorway\":[\"#636efa\",\"#EF553B\",\"#00cc96\",\"#ab63fa\",\"#FFA15A\",\"#19d3f3\",\"#FF6692\",\"#B6E880\",\"#FF97FF\",\"#FECB52\"],\"font\":{\"color\":\"#2a3f5f\"},\"hovermode\":\"closest\",\"hoverlabel\":{\"align\":\"left\"},\"paper_bgcolor\":\"white\",\"plot_bgcolor\":\"#E5ECF6\",\"polar\":{\"bgcolor\":\"#E5ECF6\",\"angularaxis\":{\"gridcolor\":\"white\",\"linecolor\":\"white\",\"ticks\":\"\"},\"radialaxis\":{\"gridcolor\":\"white\",\"linecolor\":\"white\",\"ticks\":\"\"}},\"ternary\":{\"bgcolor\":\"#E5ECF6\",\"aaxis\":{\"gridcolor\":\"white\",\"linecolor\":\"white\",\"ticks\":\"\"},\"baxis\":{\"gridcolor\":\"white\",\"linecolor\":\"white\",\"ticks\":\"\"},\"caxis\":{\"gridcolor\":\"white\",\"linecolor\":\"white\",\"ticks\":\"\"}},\"coloraxis\":{\"colorbar\":{\"outlinewidth\":0,\"ticks\":\"\"}},\"colorscale\":{\"sequential\":[[0.0,\"#0d0887\"],[0.1111111111111111,\"#46039f\"],[0.2222222222222222,\"#7201a8\"],[0.3333333333333333,\"#9c179e\"],[0.4444444444444444,\"#bd3786\"],[0.5555555555555556,\"#d8576b\"],[0.6666666666666666,\"#ed7953\"],[0.7777777777777778,\"#fb9f3a\"],[0.8888888888888888,\"#fdca26\"],[1.0,\"#f0f921\"]],\"sequentialminus\":[[0.0,\"#0d0887\"],[0.1111111111111111,\"#46039f\"],[0.2222222222222222,\"#7201a8\"],[0.3333333333333333,\"#9c179e\"],[0.4444444444444444,\"#bd3786\"],[0.5555555555555556,\"#d8576b\"],[0.6666666666666666,\"#ed7953\"],[0.7777777777777778,\"#fb9f3a\"],[0.8888888888888888,\"#fdca26\"],[1.0,\"#f0f921\"]],\"diverging\":[[0,\"#8e0152\"],[0.1,\"#c51b7d\"],[0.2,\"#de77ae\"],[0.3,\"#f1b6da\"],[0.4,\"#fde0ef\"],[0.5,\"#f7f7f7\"],[0.6,\"#e6f5d0\"],[0.7,\"#b8e186\"],[0.8,\"#7fbc41\"],[0.9,\"#4d9221\"],[1,\"#276419\"]]},\"xaxis\":{\"gridcolor\":\"white\",\"linecolor\":\"white\",\"ticks\":\"\",\"title\":{\"standoff\":15},\"zerolinecolor\":\"white\",\"automargin\":true,\"zerolinewidth\":2},\"yaxis\":{\"gridcolor\":\"white\",\"linecolor\":\"white\",\"ticks\":\"\",\"title\":{\"standoff\":15},\"zerolinecolor\":\"white\",\"automargin\":true,\"zerolinewidth\":2},\"scene\":{\"xaxis\":{\"backgroundcolor\":\"#E5ECF6\",\"gridcolor\":\"white\",\"linecolor\":\"white\",\"showbackground\":true,\"ticks\":\"\",\"zerolinecolor\":\"white\",\"gridwidth\":2},\"yaxis\":{\"backgroundcolor\":\"#E5ECF6\",\"gridcolor\":\"white\",\"linecolor\":\"white\",\"showbackground\":true,\"ticks\":\"\",\"zerolinecolor\":\"white\",\"gridwidth\":2},\"zaxis\":{\"backgroundcolor\":\"#E5ECF6\",\"gridcolor\":\"white\",\"linecolor\":\"white\",\"showbackground\":true,\"ticks\":\"\",\"zerolinecolor\":\"white\",\"gridwidth\":2}},\"shapedefaults\":{\"line\":{\"color\":\"#2a3f5f\"}},\"annotationdefaults\":{\"arrowcolor\":\"#2a3f5f\",\"arrowhead\":0,\"arrowwidth\":1},\"geo\":{\"bgcolor\":\"white\",\"landcolor\":\"#E5ECF6\",\"subunitcolor\":\"white\",\"showland\":true,\"showlakes\":true,\"lakecolor\":\"white\"},\"title\":{\"x\":0.05},\"mapbox\":{\"style\":\"light\"}}},\"xaxis\":{\"anchor\":\"y\",\"domain\":[0.0,1.0],\"title\":{\"text\":\"value\"}},\"yaxis\":{\"anchor\":\"x\",\"domain\":[0.0,1.0],\"title\":{\"text\":\"probability\"}},\"legend\":{\"title\":{\"text\":\"variable\"},\"tracegroupgap\":0},\"title\":{\"text\":\"Distribution of the difference in R-square values\"},\"barmode\":\"relative\",\"shapes\":[{\"line\":{\"color\":\"red\"},\"type\":\"line\",\"x0\":0.11175490412877942,\"x1\":0.11175490412877942,\"xref\":\"x\",\"y0\":0,\"y1\":1,\"yref\":\"y domain\"}]},                        {\"responsive\": true}                    ).then(function(){\n",
       "                            \n",
       "var gd = document.getElementById('aa24c20a-fbba-46ff-8b7d-c6f4d0d933df');\n",
       "var x = new MutationObserver(function (mutations, observer) {{\n",
       "        var display = window.getComputedStyle(gd).display;\n",
       "        if (!display || display === 'none') {{\n",
       "            console.log([gd, 'removed!']);\n",
       "            Plotly.purge(gd);\n",
       "            observer.disconnect();\n",
       "        }}\n",
       "}});\n",
       "\n",
       "// Listen for the removal of the full notebook cells\n",
       "var notebookContainer = gd.closest('#notebook-container');\n",
       "if (notebookContainer) {{\n",
       "    x.observe(notebookContainer, {childList: true});\n",
       "}}\n",
       "\n",
       "// Listen for the clearing of the current output cell\n",
       "var outputEl = gd.closest('.output');\n",
       "if (outputEl) {{\n",
       "    x.observe(outputEl, {childList: true});\n",
       "}}\n",
       "\n",
       "                        })                };                });            </script>        </div>"
      ]
     },
     "metadata": {},
     "output_type": "display_data"
    }
   ],
   "source": [
    "fig = px.histogram(pd.DataFrame(R_square_diff, columns=['Difference in R-square value']), \n",
    "                   histnorm='probability', \n",
    "                   title='Distribution of the difference in R-square values'\n",
    "                  )              \n",
    "fig.add_vline(x=observed, line_color='red')\n",
    "fig.show()"
   ]
  }
 ],
 "metadata": {
  "kernelspec": {
   "display_name": "Python 3 (ipykernel)",
   "language": "python",
   "name": "python3"
  },
  "language_info": {
   "codemirror_mode": {
    "name": "ipython",
    "version": 3
   },
   "file_extension": ".py",
   "mimetype": "text/x-python",
   "name": "python",
   "nbconvert_exporter": "python",
   "pygments_lexer": "ipython3",
   "version": "3.9.13"
  }
 },
 "nbformat": 4,
 "nbformat_minor": 2
}
